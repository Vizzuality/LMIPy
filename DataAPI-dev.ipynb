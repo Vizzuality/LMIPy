{
 "cells": [
  {
   "cell_type": "markdown",
   "metadata": {},
   "source": [
    "# GFW Data-API Playground\n",
    "\n",
    "When developing, to test newly saved code:\n",
    "\n",
    "- restart kernel\n",
    "- after each save in the command line use: `!python setup.py develop ` or `!pip install -e .` to install\n",
    "- then re-import `LMIPy`\n",
    "- use `py.test` in cli to execute tests\n",
    "\n",
    "### To release\n",
    "\n",
    "1. Increment the version in `setup.py`.\n",
    "2. Push changes to github\n",
    "3. Checkout to master, pull\n",
    "3. Remove the `dist` folder\n",
    "3. In the CLI run `make pypi`\n",
    "4. Check version on [Colab](https://colab.research.google.com/drive/1tRye2QAytWzuki3DQyg4G7fsFFKlZNic#scrollTo=EN4iMVRm6N0Y)\n",
    "\n"
   ]
  },
  {
   "cell_type": "code",
   "execution_count": 1,
   "metadata": {
    "scrolled": false
   },
   "outputs": [
    {
     "name": "stderr",
     "output_type": "stream",
     "text": [
      "/Users/vizzuality/anaconda3/lib/python3.6/site-packages/geopandas/_compat.py:88: UserWarning: The Shapely GEOS version (3.9.1-CAPI-1.14.2) is incompatible with the GEOS version PyGEOS was compiled with (3.8.1-CAPI-1.13.3). Conversions between both will be slow.\n",
      "  shapely_geos_version, geos_capi_version_string\n"
     ]
    },
    {
     "name": "stdout",
     "output_type": "stream",
     "text": [
      "LMI ver. 0.5.0 ready!\n"
     ]
    }
   ],
   "source": [
    "!python setup.py develop \n",
    "\n",
    "from IPython.display import clear_output,display\n",
    "clear_output()\n",
    "\n",
    "import LMIPy as lmi\n",
    "from LMIPy import utils\n",
    "\n",
    "print(f'LMI ver. {lmi.__version__} ready!')"
   ]
  },
  {
   "cell_type": "markdown",
   "metadata": {},
   "source": [
    "# RW Auth Class"
   ]
  },
  {
   "cell_type": "code",
   "execution_count": 3,
   "metadata": {},
   "outputs": [],
   "source": [
    "SERVER = 'production'\n",
    "# SERVER = 'staging'\n",
    "\n",
    "creds = lmi.Auth(server=SERVER)"
   ]
  },
  {
   "cell_type": "markdown",
   "metadata": {},
   "source": [
    "## Register new user"
   ]
  },
  {
   "cell_type": "code",
   "execution_count": 4,
   "metadata": {},
   "outputs": [],
   "source": [
    "email = 'aj.pain89@gmail.com'\n",
    "name = 'AJ Pain'\n",
    "\n",
    "creds.register(email=email, name=name)"
   ]
  },
  {
   "cell_type": "markdown",
   "metadata": {},
   "source": [
    "## Login and generate token\n",
    "\n",
    "Note that generating a token will invalidate existing tokens."
   ]
  },
  {
   "cell_type": "code",
   "execution_count": 8,
   "metadata": {},
   "outputs": [],
   "source": [
    "email = 'aj.pain89@gmail.com'\n",
    "creds.login(email=email)"
   ]
  },
  {
   "cell_type": "code",
   "execution_count": 10,
   "metadata": {},
   "outputs": [],
   "source": [
    "creds.generateToken()"
   ]
  },
  {
   "cell_type": "code",
   "execution_count": 9,
   "metadata": {},
   "outputs": [],
   "source": [
    "TOKEN = creds.token"
   ]
  },
  {
   "cell_type": "code",
   "execution_count": 11,
   "metadata": {},
   "outputs": [
    {
     "data": {
      "text/plain": [
       "'USER'"
      ]
     },
     "execution_count": 11,
     "metadata": {},
     "output_type": "execute_result"
    }
   ],
   "source": [
    "creds.role"
   ]
  },
  {
   "cell_type": "code",
   "execution_count": 12,
   "metadata": {},
   "outputs": [
    {
     "data": {
      "text/plain": [
       "[]"
      ]
     },
     "execution_count": 12,
     "metadata": {},
     "output_type": "execute_result"
    }
   ],
   "source": [
    "creds.apps"
   ]
  },
  {
   "cell_type": "markdown",
   "metadata": {},
   "source": [
    "## Update user"
   ]
  },
  {
   "cell_type": "code",
   "execution_count": 4,
   "metadata": {},
   "outputs": [
    {
     "name": "stdout",
     "output_type": "stream",
     "text": [
      "Password: ········\n"
     ]
    }
   ],
   "source": [
    "email = 'adam.pain@vizzuality.com'\n",
    "creds.login(email=email)"
   ]
  },
  {
   "cell_type": "code",
   "execution_count": 5,
   "metadata": {},
   "outputs": [
    {
     "name": "stdout",
     "output_type": "stream",
     "text": [
      "user_id: 59db4eace9c1380001d6e4c3\n",
      "role: ADMIN\n",
      "apps: ['rw', 'gfw', 'prep', 'aqueduct', 'forest-atlas', 'data4sdgs', 'gfw-climate', 'gfw-pro', 'ghg-gdp', 'ng']\n"
     ]
    }
   ],
   "source": [
    "print(f\"user_id: {creds._id}\")\n",
    "print(f\"role: {creds.role}\")\n",
    "print(f\"apps: {creds.apps}\")\n",
    "\n",
    "TOKEN = creds.token"
   ]
  },
  {
   "cell_type": "code",
   "execution_count": 17,
   "metadata": {},
   "outputs": [
    {
     "name": "stdout",
     "output_type": "stream",
     "text": [
      "https://api.resourcewatch.org/auth/user?app=all&email=aj.pain89@gmail.com\n"
     ]
    },
    {
     "data": {
      "text/plain": [
       "[{'_id': '60eda01babdcd1001b768594',\n",
       "  'createdAt': '2021-07-13T14:15:55.000Z',\n",
       "  'email': 'aj.pain89@gmail.com',\n",
       "  'extraUserData': {'apps': []},\n",
       "  'id': '60eda01babdcd1001b768594',\n",
       "  'name': 'AJ Pain',\n",
       "  'provider': 'local',\n",
       "  'role': 'USER',\n",
       "  'updatedAt': '2021-07-13T14:17:35.000Z'}]"
      ]
     },
     "execution_count": 17,
     "metadata": {},
     "output_type": "execute_result"
    }
   ],
   "source": [
    "user = creds.getUserByEmail(user_email='aj.pain89@gmail.com', token=TOKEN)\n",
    "user"
   ]
  },
  {
   "cell_type": "code",
   "execution_count": 19,
   "metadata": {},
   "outputs": [
    {
     "data": {
      "text/plain": [
       "'60eda01babdcd1001b768594'"
      ]
     },
     "execution_count": 19,
     "metadata": {},
     "output_type": "execute_result"
    }
   ],
   "source": [
    "uid = user[0][\"_id\"]\n",
    "uid"
   ]
  },
  {
   "cell_type": "code",
   "execution_count": 22,
   "metadata": {},
   "outputs": [
    {
     "name": "stdout",
     "output_type": "stream",
     "text": [
      "https://api.resourcewatch.org/auth/user/60eda01babdcd1001b768594\n"
     ]
    },
    {
     "data": {
      "text/plain": [
       "{'_id': '60eda01babdcd1001b768594',\n",
       " 'createdAt': '2021-07-13T14:15:55.000Z',\n",
       " 'email': 'aj.pain89@gmail.com',\n",
       " 'extraUserData': {'apps': ['gfw']},\n",
       " 'id': '60eda01babdcd1001b768594',\n",
       " 'name': 'AJ Pain',\n",
       " 'provider': 'local',\n",
       " 'role': 'ADMIN',\n",
       " 'updatedAt': '2021-07-13T14:39:49.000Z'}"
      ]
     },
     "execution_count": 22,
     "metadata": {},
     "output_type": "execute_result"
    }
   ],
   "source": [
    "payload = {\n",
    "    'extraUserData': {\n",
    "        'apps': ['gfw']\n",
    "    },\n",
    "    'role': 'ADMIN'\n",
    "}\n",
    "creds.updateUser(user_id=uid, token=TOKEN, payload=payload)"
   ]
  },
  {
   "cell_type": "markdown",
   "metadata": {},
   "source": [
    "# Data API"
   ]
  },
  {
   "cell_type": "markdown",
   "metadata": {},
   "source": [
    "### Get Data-API Keys"
   ]
  },
  {
   "cell_type": "code",
   "execution_count": 6,
   "metadata": {},
   "outputs": [],
   "source": [
    "from LMIPy import dataAPI\n",
    "\n",
    "# SERVER = 'production'\n",
    "SERVER = 'staging'"
   ]
  },
  {
   "cell_type": "code",
   "execution_count": 7,
   "metadata": {},
   "outputs": [],
   "source": [
    "## Get data-api creds (staging only; not currently enforced in production)\n",
    "## Always use Prod RW API TOKEN\n",
    "creds = dataAPI.Auth(server=SERVER, rw_api_token=TOKEN)"
   ]
  },
  {
   "cell_type": "code",
   "execution_count": 8,
   "metadata": {},
   "outputs": [
    {
     "data": {
      "text/plain": [
       "[GFW Data API Credential: 'GFW Flagship Staging Key' (does not expire),\n",
       " GFW Data API Credential: 'AJ data-api' (does not expire)]"
      ]
     },
     "execution_count": 8,
     "metadata": {},
     "output_type": "execute_result"
    }
   ],
   "source": [
    "## See keys that I have generated\n",
    "creds.keys"
   ]
  },
  {
   "cell_type": "code",
   "execution_count": 9,
   "metadata": {},
   "outputs": [],
   "source": [
    "## Set data-api key\n",
    "DATA_API_KEY = creds.keys[1].api_key"
   ]
  },
  {
   "cell_type": "markdown",
   "metadata": {},
   "source": [
    "### Search Data Catalogue"
   ]
  },
  {
   "cell_type": "code",
   "execution_count": 10,
   "metadata": {},
   "outputs": [
    {
     "data": {
      "text/plain": [
       "{1: GFW Data API Dataset: 'umd_glad_alerts__adm1_weekly',\n",
       " 2: GFW Data API Dataset: 'umd_glad_alerts__adm2_daily',\n",
       " 3: GFW Data API Dataset: 'umd_glad_landsat_alerts',\n",
       " 4: GFW Data API Dataset: 'umd_glad_sentinel2_alerts',\n",
       " 5: GFW Data API Dataset: 'umd_modis_burned_areas',\n",
       " 6: GFW Data API Dataset: 'umd_regional_primary_forest_2001',\n",
       " 7: GFW Data API Dataset: 'umd_soy_on_tree_cover_loss',\n",
       " 8: GFW Data API Dataset: 'umd_soy_planted_area',\n",
       " 9: GFW Data API Dataset: 'umd_tree_cover_density_2000',\n",
       " 10: GFW Data API Dataset: 'umd_tree_cover_density_2010',\n",
       " 11: GFW Data API Dataset: 'umd_tree_cover_gain',\n",
       " 12: GFW Data API Dataset: 'umd_tree_cover_loss',\n",
       " 13: GFW Data API Dataset: 'umd_tree_cover_loss__adm2_change'}"
      ]
     },
     "execution_count": 10,
     "metadata": {},
     "output_type": "execute_result"
    }
   ],
   "source": [
    "## Search the catalogue to populate datasets\n",
    "col = dataAPI.DataCatalogue(server=SERVER, search='umd', token=DATA_API_KEY)\n",
    "datasets = col.datasets\n",
    "datasets"
   ]
  },
  {
   "cell_type": "code",
   "execution_count": 15,
   "metadata": {},
   "outputs": [
    {
     "data": {
      "text/plain": [
       "GFW Data API Dataset: 'umd_modis_burned_areas'"
      ]
     },
     "execution_count": 15,
     "metadata": {},
     "output_type": "execute_result"
    }
   ],
   "source": [
    "## Select Dataset and populate with metadata as needed\n",
    "d = datasets[5]\n",
    "d"
   ]
  },
  {
   "cell_type": "code",
   "execution_count": 16,
   "metadata": {},
   "outputs": [
    {
     "name": "stdout",
     "output_type": "stream",
     "text": [
      "https://staging-data-api.globalforestwatch.org/dataset/umd_modis_burned_areas\n"
     ]
    },
    {
     "data": {
      "text/plain": [
       "['v2020',\n",
       " 'v2020.3',\n",
       " 'v2021.0',\n",
       " 'v2021.2',\n",
       " 'v2021.3',\n",
       " 'v2021.4',\n",
       " 'v2021.7',\n",
       " 'v2021.8']"
      ]
     },
     "execution_count": 16,
     "metadata": {},
     "output_type": "execute_result"
    }
   ],
   "source": [
    "d.get_versions(True)\n",
    "d.versions"
   ]
  },
  {
   "cell_type": "code",
   "execution_count": 19,
   "metadata": {},
   "outputs": [],
   "source": [
    "## Set a specific version (if no latest)\n",
    "d.version = d.versions[-1]"
   ]
  },
  {
   "cell_type": "code",
   "execution_count": 20,
   "metadata": {},
   "outputs": [
    {
     "name": "stdout",
     "output_type": "stream",
     "text": [
      "https://staging-data-api.globalforestwatch.org/dataset/umd_modis_burned_areas/v2021.8\n",
      "https://staging-data-api.globalforestwatch.org/dataset/umd_modis_burned_areas/v2021.8/fields\n"
     ]
    }
   ],
   "source": [
    "## Populate metadata etc\n",
    "d.get_metadata(verbose=True)\n",
    "d.get_fields(True)\n",
    "\n",
    "d.metadata['function']"
   ]
  },
  {
   "cell_type": "code",
   "execution_count": 21,
   "metadata": {},
   "outputs": [
    {
     "data": {
      "text/plain": [
       "{'added_date': None,\n",
       " 'analysis': None,\n",
       " 'cautions': None,\n",
       " 'citation': None,\n",
       " 'content_date': None,\n",
       " 'content_date_range': {'max': '2020-12-31', 'min': '2000-09-01'},\n",
       " 'data_language': None,\n",
       " 'data_updates': None,\n",
       " 'download': None,\n",
       " 'function': None,\n",
       " 'geographic_coverage': None,\n",
       " 'key_restrictions': None,\n",
       " 'last_update': None,\n",
       " 'learn_more': None,\n",
       " 'license': None,\n",
       " 'other': None,\n",
       " 'overview': None,\n",
       " 'resolution': None,\n",
       " 'scale': None,\n",
       " 'source': None,\n",
       " 'subtitle': None,\n",
       " 'tags': None,\n",
       " 'title': None,\n",
       " 'update_frequency': None,\n",
       " 'version_number': None,\n",
       " 'why_added': None}"
      ]
     },
     "execution_count": 21,
     "metadata": {},
     "output_type": "execute_result"
    }
   ],
   "source": [
    "d.metadata"
   ]
  },
  {
   "cell_type": "markdown",
   "metadata": {},
   "source": [
    "### Use Slug Directly"
   ]
  },
  {
   "cell_type": "code",
   "execution_count": 22,
   "metadata": {},
   "outputs": [],
   "source": [
    "## Instantiate new dataset object using the table name slug directly\n",
    "dataset_name = 'umd_modis_burned_areas'\n",
    "\n",
    "d = dataAPI.Dataset(server=SERVER, slug=dataset_name)"
   ]
  },
  {
   "cell_type": "code",
   "execution_count": 23,
   "metadata": {},
   "outputs": [
    {
     "name": "stdout",
     "output_type": "stream",
     "text": [
      "https://staging-data-api.globalforestwatch.org/dataset/umd_modis_burned_areas\n"
     ]
    },
    {
     "data": {
      "text/plain": [
       "['v2020',\n",
       " 'v2020.3',\n",
       " 'v2021.0',\n",
       " 'v2021.2',\n",
       " 'v2021.3',\n",
       " 'v2021.4',\n",
       " 'v2021.7',\n",
       " 'v2021.8']"
      ]
     },
     "execution_count": 23,
     "metadata": {},
     "output_type": "execute_result"
    }
   ],
   "source": [
    "## Populate metadata etc\n",
    "d.get_versions(True)\n",
    "d.versions"
   ]
  },
  {
   "cell_type": "code",
   "execution_count": 24,
   "metadata": {},
   "outputs": [],
   "source": [
    "d.version = d.versions[-1]"
   ]
  },
  {
   "cell_type": "code",
   "execution_count": 30,
   "metadata": {},
   "outputs": [
    {
     "data": {
      "text/plain": [
       "['gfw_fid',\n",
       " 'alert__date',\n",
       " 'geom',\n",
       " 'geom_wm',\n",
       " 'gfw_area__ha',\n",
       " 'gfw_geostore_id',\n",
       " 'gfw_geojson',\n",
       " 'gfw_bbox',\n",
       " 'created_on',\n",
       " 'updated_on']"
      ]
     },
     "execution_count": 30,
     "metadata": {},
     "output_type": "execute_result"
    }
   ],
   "source": [
    "d.get_metadata()\n",
    "d.get_fields()\n",
    "\n",
    "# Queryable fields\n",
    "d.fields"
   ]
  },
  {
   "cell_type": "code",
   "execution_count": 31,
   "metadata": {},
   "outputs": [],
   "source": [
    "## Query using a geostore to do zonal stats\n",
    "gid = 'c3833748f6815d31bad47d47f147c0f0'"
   ]
  },
  {
   "cell_type": "code",
   "execution_count": 33,
   "metadata": {},
   "outputs": [
    {
     "name": "stdout",
     "output_type": "stream",
     "text": [
      "https://staging-data-api.globalforestwatch.org/dataset/umd_modis_burned_areas/v2021.8/query/json?sql=SELECT+SUM%28gfw_area__ha%29%2C%0A++++++++++++++alert__date%0A++++++++FROM+data%0A++++++++WHERE+alert__date+%3E+%272015-01-01%27%0A++++++++GROUP+BY+alert__date%0A+++++++&geostore_id=c3833748f6815d31bad47d47f147c0f0&geostore_origin=rw\n"
     ]
    },
    {
     "data": {
      "text/plain": [
       "[{'alert__date': '2015-01-24', 'sum': 23.7707400615323},\n",
       " {'alert__date': '2015-01-27', 'sum': 23.7707292647075},\n",
       " {'alert__date': '2015-01-28', 'sum': 23.7707072627768},\n",
       " {'alert__date': '2015-01-30', 'sum': 71.3121386526033},\n",
       " {'alert__date': '2015-02-03', 'sum': 71.3121768612035},\n",
       " {'alert__date': '2015-02-05', 'sum': 118.8535692487325},\n",
       " {'alert__date': '2015-02-06', 'sum': 23.7709871186549},\n",
       " {'alert__date': '2015-02-09', 'sum': 47.5417837046964},\n",
       " {'alert__date': '2015-02-10', 'sum': 142.6255246053349},\n",
       " {'alert__date': '2015-02-11', 'sum': 47.5416984642444},\n",
       " {'alert__date': '2015-02-12', 'sum': 95.0835903891303},\n",
       " {'alert__date': '2015-02-13', 'sum': 95.0838307072704},\n",
       " {'alert__date': '2015-02-14', 'sum': 166.3954259257716},\n",
       " {'alert__date': '2015-02-16', 'sum': 118.8543363479301},\n",
       " {'alert__date': '2015-02-18', 'sum': 71.3127416537035},\n",
       " {'alert__date': '2015-02-19', 'sum': 166.396009346442},\n",
       " {'alert__date': '2015-02-20', 'sum': 71.3125024899993},\n",
       " {'alert__date': '2015-02-21', 'sum': 118.8545158318275},\n",
       " {'alert__date': '2015-02-22', 'sum': 95.0837995397441},\n",
       " {'alert__date': '2015-02-23', 'sum': 71.3128741192083},\n",
       " {'alert__date': '2015-02-24', 'sum': 309.021510892563},\n",
       " {'alert__date': '2015-02-25', 'sum': 356.5633480402295},\n",
       " {'alert__date': '2015-02-27', 'sum': 47.5417213279915},\n",
       " {'alert__date': '2015-02-28', 'sum': 23.770859008158},\n",
       " {'alert__date': '2015-03-01', 'sum': 71.3126600876089},\n",
       " {'alert__date': '2015-03-02', 'sum': 95.0835189143927},\n",
       " {'alert__date': '2015-03-03', 'sum': 23.7709274184152},\n",
       " {'alert__date': '2015-03-04', 'sum': 23.7708311087651},\n",
       " {'alert__date': '2015-03-05', 'sum': 23.7706015174881},\n",
       " {'alert__date': '2015-03-08', 'sum': 23.770849844455},\n",
       " {'alert__date': '2015-03-12', 'sum': 95.0829209403571},\n",
       " {'alert__date': '2015-03-15', 'sum': 23.7710200082414},\n",
       " {'alert__date': '2015-03-19', 'sum': 23.7710261778757},\n",
       " {'alert__date': '2015-04-01', 'sum': 23.7704007786967},\n",
       " {'alert__date': '2015-04-04', 'sum': 23.7710381088601},\n",
       " {'alert__date': '2015-04-05', 'sum': 23.7710261778757},\n",
       " {'alert__date': '2015-04-08', 'sum': 23.7710438702106},\n",
       " {'alert__date': '2015-04-09', 'sum': 71.3123312841296},\n",
       " {'alert__date': '2015-04-10', 'sum': 47.5420762881089},\n",
       " {'alert__date': '2015-04-11', 'sum': 71.3130964981511},\n",
       " {'alert__date': '2015-04-12', 'sum': 23.7710381088601},\n",
       " {'alert__date': '2015-04-14', 'sum': 71.3131083634298},\n",
       " {'alert__date': '2015-04-16', 'sum': 47.5420760816259},\n",
       " {'alert__date': '2015-04-19', 'sum': 23.7710381088601},\n",
       " {'alert__date': '2015-04-24', 'sum': 47.5420819790708},\n",
       " {'alert__date': '2015-06-09', 'sum': 23.7708739785679},\n",
       " {'alert__date': '2015-06-15', 'sum': 23.7710968565066},\n",
       " {'alert__date': '2015-06-16', 'sum': 166.3967778094623},\n",
       " {'alert__date': '2015-06-18', 'sum': 118.8550378257655},\n",
       " {'alert__date': '2015-06-19', 'sum': 190.1679109016536},\n",
       " {'alert__date': '2015-06-20', 'sum': 71.3129037427141},\n",
       " {'alert__date': '2015-06-21', 'sum': 71.3129591784653},\n",
       " {'alert__date': '2015-06-22', 'sum': 23.7710115703603},\n",
       " {'alert__date': '2015-06-23', 'sum': 213.9383009509113},\n",
       " {'alert__date': '2015-06-24', 'sum': 118.854914408},\n",
       " {'alert__date': '2015-06-25', 'sum': 71.3130906461495},\n",
       " {'alert__date': '2015-06-26', 'sum': 237.7102506646847},\n",
       " {'alert__date': '2015-06-27', 'sum': 95.0843022760323},\n",
       " {'alert__date': '2015-06-28', 'sum': 213.9389027840214},\n",
       " {'alert__date': '2015-06-29', 'sum': 47.5419708349448},\n",
       " {'alert__date': '2015-06-30', 'sum': 142.6261829256485},\n",
       " {'alert__date': '2015-07-01', 'sum': 261.4805558896622},\n",
       " {'alert__date': '2015-07-02', 'sum': 71.3134065224886},\n",
       " {'alert__date': '2015-07-03', 'sum': 166.3975552631397},\n",
       " {'alert__date': '2015-07-04', 'sum': 142.6255010924341},\n",
       " {'alert__date': '2015-07-05', 'sum': 118.8548861455809},\n",
       " {'alert__date': '2015-07-06', 'sum': 71.3130863819528},\n",
       " {'alert__date': '2015-07-07', 'sum': 332.7947684043993},\n",
       " {'alert__date': '2015-07-08', 'sum': 213.9398803734137},\n",
       " {'alert__date': '2015-07-09', 'sum': 213.9389377409564},\n",
       " {'alert__date': '2015-07-10', 'sum': 713.1304575804279},\n",
       " {'alert__date': '2015-07-11', 'sum': 380.3364449180355},\n",
       " {'alert__date': '2015-07-12', 'sum': 404.1075080899369},\n",
       " {'alert__date': '2015-07-13', 'sum': 356.564617627455},\n",
       " {'alert__date': '2015-07-14', 'sum': 1164.780558678908},\n",
       " {'alert__date': '2015-07-15', 'sum': 855.75852081496},\n",
       " {'alert__date': '2015-07-16', 'sum': 71.3133975652483},\n",
       " {'alert__date': '2015-07-17', 'sum': 427.8786692658716},\n",
       " {'alert__date': '2015-07-18', 'sum': 332.7945272387618},\n",
       " {'alert__date': '2015-07-19', 'sum': 285.2524506381675},\n",
       " {'alert__date': '2015-07-20', 'sum': 451.6493178756767},\n",
       " {'alert__date': '2015-07-22', 'sum': 213.9395316327588},\n",
       " {'alert__date': '2015-07-23', 'sum': 71.3129084151026},\n",
       " {'alert__date': '2015-07-24', 'sum': 95.0838776397111},\n",
       " {'alert__date': '2015-07-25', 'sum': 47.5419863500471},\n",
       " {'alert__date': '2015-07-26', 'sum': 47.5420286752474},\n",
       " {'alert__date': '2015-07-29', 'sum': 47.5416559368331},\n",
       " {'alert__date': '2015-07-31', 'sum': 47.5423090105223},\n",
       " {'alert__date': '2015-08-01', 'sum': 23.7708279332245},\n",
       " {'alert__date': '2015-08-15', 'sum': 23.7701529065911},\n",
       " {'alert__date': '2016-02-16', 'sum': 118.8543570796091},\n",
       " {'alert__date': '2016-02-17', 'sum': 380.3337385993137},\n",
       " {'alert__date': '2016-02-21', 'sum': 47.541671653421},\n",
       " {'alert__date': '2016-02-22', 'sum': 95.0834529333956},\n",
       " {'alert__date': '2016-02-23', 'sum': 118.8543394983773},\n",
       " {'alert__date': '2016-02-24', 'sum': 23.7708311087651},\n",
       " {'alert__date': '2016-02-28', 'sum': 47.5417262273652},\n",
       " {'alert__date': '2016-03-06', 'sum': 47.5406539862559},\n",
       " {'alert__date': '2016-03-10', 'sum': 23.7704433761127},\n",
       " {'alert__date': '2016-03-12', 'sum': 23.7703863073766},\n",
       " {'alert__date': '2016-03-13', 'sum': 47.5403058835536},\n",
       " {'alert__date': '2016-03-15', 'sum': 47.5406539862559},\n",
       " {'alert__date': '2016-03-16', 'sum': 142.6212695203245},\n",
       " {'alert__date': '2016-03-17', 'sum': 118.8516200179935},\n",
       " {'alert__date': '2016-03-18', 'sum': 71.3109961992055},\n",
       " {'alert__date': '2016-03-19', 'sum': 23.7697747033134},\n",
       " {'alert__date': '2016-03-21', 'sum': 23.7703270611718},\n",
       " {'alert__date': '2016-03-25', 'sum': 23.7703270611718},\n",
       " {'alert__date': '2016-03-31', 'sum': 23.7703420768619},\n",
       " {'alert__date': '2016-04-04', 'sum': 23.7697940738887},\n",
       " {'alert__date': '2016-04-08', 'sum': 47.5404522499342},\n",
       " {'alert__date': '2016-04-16', 'sum': 23.770185795879},\n",
       " {'alert__date': '2016-04-18', 'sum': 71.3106063906342},\n",
       " {'alert__date': '2016-04-19', 'sum': 23.770185795879},\n",
       " {'alert__date': '2016-04-21', 'sum': 23.7710006827729},\n",
       " {'alert__date': '2016-04-23', 'sum': 23.7700509725571},\n",
       " {'alert__date': '2016-04-24', 'sum': 23.7701694192823},\n",
       " {'alert__date': '2016-04-25', 'sum': 23.7702020363845},\n",
       " {'alert__date': '2016-04-27', 'sum': 95.0807105710633},\n",
       " {'alert__date': '2016-04-28', 'sum': 23.7701694192823},\n",
       " {'alert__date': '2016-04-30', 'sum': 23.7699981683217},\n",
       " {'alert__date': '2016-05-01', 'sum': 142.6204877538372},\n",
       " {'alert__date': '2016-05-03', 'sum': 23.770356956457},\n",
       " {'alert__date': '2016-05-04', 'sum': 71.3105344138727},\n",
       " {'alert__date': '2016-05-08', 'sum': 95.0811606534966},\n",
       " {'alert__date': '2016-05-10', 'sum': 23.7700854949296},\n",
       " {'alert__date': '2016-05-11', 'sum': 23.7705509811729},\n",
       " {'alert__date': '2016-05-12', 'sum': 23.770356956457},\n",
       " {'alert__date': '2016-05-13', 'sum': 23.77116290796},\n",
       " {'alert__date': '2016-05-19', 'sum': 23.7705509811729},\n",
       " {'alert__date': '2016-05-26', 'sum': 23.7705509811729},\n",
       " {'alert__date': '2016-05-27', 'sum': 23.7704151139293},\n",
       " {'alert__date': '2016-05-30', 'sum': 23.7704151139293},\n",
       " {'alert__date': '2016-06-01', 'sum': 23.7704293130659},\n",
       " {'alert__date': '2016-06-08', 'sum': 47.5399425797802},\n",
       " {'alert__date': '2016-06-18', 'sum': 23.7699441392787},\n",
       " {'alert__date': '2016-08-14', 'sum': 47.5418547007386},\n",
       " {'alert__date': '2016-08-15', 'sum': 23.7701694192823},\n",
       " {'alert__date': '2016-08-17', 'sum': 118.8540461261291},\n",
       " {'alert__date': '2016-08-18', 'sum': 71.3127806925043},\n",
       " {'alert__date': '2016-08-19', 'sum': 71.3129511739533},\n",
       " {'alert__date': '2016-08-20', 'sum': 23.7709353572756},\n",
       " {'alert__date': '2016-08-22', 'sum': 47.5411613008449},\n",
       " {'alert__date': '2016-08-27', 'sum': 23.7698324067716},\n",
       " {'alert__date': '2016-08-30', 'sum': 95.0834591983691},\n",
       " {'alert__date': '2016-08-31', 'sum': 47.5404278905965},\n",
       " {'alert__date': '2016-09-03', 'sum': 47.5412366533488},\n",
       " {'alert__date': '2016-09-05', 'sum': 23.7697940738887},\n",
       " {'alert__date': '2016-09-07', 'sum': 23.7711627264999},\n",
       " {'alert__date': '2016-09-08', 'sum': 23.7711511584192},\n",
       " {'alert__date': '2016-09-11', 'sum': 23.7700854949296},\n",
       " {'alert__date': '2016-09-13', 'sum': 47.5422986672974},\n",
       " {'alert__date': '2017-07-09', 'sum': 47.5393716692321},\n",
       " {'alert__date': '2017-07-19', 'sum': 23.7696958601244},\n",
       " {'alert__date': '2017-07-20', 'sum': 23.7696758091077},\n",
       " {'alert__date': '2017-08-06', 'sum': 23.7705890875474},\n",
       " {'alert__date': '2017-08-08', 'sum': 23.7711102391806},\n",
       " {'alert__date': '2017-08-14', 'sum': 23.7706138113361},\n",
       " {'alert__date': '2017-08-15', 'sum': 47.5412030349762},\n",
       " {'alert__date': '2017-08-25', 'sum': 23.7705890875474},\n",
       " {'alert__date': '2017-08-27', 'sum': 23.7706015174881},\n",
       " {'alert__date': '2017-08-28', 'sum': 23.7700335072357},\n",
       " {'alert__date': '2017-09-01', 'sum': 23.7710585684612},\n",
       " {'alert__date': '2018-01-13', 'sum': 47.5417842493355},\n",
       " {'alert__date': '2018-01-16', 'sum': 71.310589868648},\n",
       " {'alert__date': '2018-01-19', 'sum': 23.771054984628},\n",
       " {'alert__date': '2018-01-27', 'sum': 47.5401660906099},\n",
       " {'alert__date': '2018-01-30', 'sum': 23.771054984628},\n",
       " {'alert__date': '2018-02-05', 'sum': 71.3123430779359},\n",
       " {'alert__date': '2018-02-07', 'sum': 95.0831451328438},\n",
       " {'alert__date': '2018-02-08', 'sum': 356.5629597251901},\n",
       " {'alert__date': '2018-02-09', 'sum': 23.7707612469044},\n",
       " {'alert__date': '2018-02-10', 'sum': 190.1662640416328},\n",
       " {'alert__date': '2018-02-11', 'sum': 166.3938208368616},\n",
       " {'alert__date': '2018-02-12', 'sum': 237.7078710028999},\n",
       " {'alert__date': '2018-02-13', 'sum': 95.0836077387477},\n",
       " {'alert__date': '2018-02-14', 'sum': 71.3099036915764},\n",
       " {'alert__date': '2018-02-15', 'sum': 95.0813111538361},\n",
       " {'alert__date': '2018-02-16', 'sum': 47.5416744207243},\n",
       " {'alert__date': '2018-02-19', 'sum': 142.622657475337},\n",
       " {'alert__date': '2018-02-20', 'sum': 47.5416231130278},\n",
       " {'alert__date': '2018-02-21', 'sum': 118.8507266364847},\n",
       " {'alert__date': '2018-02-25', 'sum': 71.3122204661258},\n",
       " {'alert__date': '2018-02-26', 'sum': 23.7698133083746},\n",
       " {'alert__date': '2018-02-27', 'sum': 23.7701529065911},\n",
       " {'alert__date': '2018-03-01', 'sum': 23.7699802947309},\n",
       " {'alert__date': '2018-03-10', 'sum': 23.7711243023315},\n",
       " {'alert__date': '2018-03-12', 'sum': 23.7711209906863},\n",
       " {'alert__date': '2018-03-18', 'sum': 23.7702341091298},\n",
       " {'alert__date': '2018-03-20', 'sum': 118.851067729046},\n",
       " {'alert__date': '2018-03-24', 'sum': 47.5404522499342},\n",
       " {'alert__date': '2018-04-03', 'sum': 23.7706960576713},\n",
       " {'alert__date': '2018-04-06', 'sum': 95.084640975746},\n",
       " {'alert__date': '2018-04-07', 'sum': 23.7701194729414},\n",
       " {'alert__date': '2018-04-09', 'sum': 95.0834739834229},\n",
       " {'alert__date': '2018-04-16', 'sum': 23.7701025519811},\n",
       " {'alert__date': '2018-04-19', 'sum': 23.7702020363845},\n",
       " {'alert__date': '2018-04-20', 'sum': 23.770185795879},\n",
       " {'alert__date': '2018-04-23', 'sum': 23.771075580328},\n",
       " {'alert__date': '2018-04-24', 'sum': 23.77116290796},\n",
       " {'alert__date': '2018-04-25', 'sum': 95.0843750961499},\n",
       " {'alert__date': '2018-05-08', 'sum': 71.3123585026195},\n",
       " {'alert__date': '2018-05-09', 'sum': 23.771075580328},\n",
       " {'alert__date': '2018-05-10', 'sum': 23.7700683017887},\n",
       " {'alert__date': '2018-05-12', 'sum': 118.8549658117071},\n",
       " {'alert__date': '2018-05-13', 'sum': 23.7710706355447},\n",
       " {'alert__date': '2018-05-17', 'sum': 23.771075580328},\n",
       " {'alert__date': '2018-05-26', 'sum': 23.7706616257988},\n",
       " {'alert__date': '2018-07-09', 'sum': 23.7703420768619},\n",
       " {'alert__date': '2018-07-21', 'sum': 95.0802993624307},\n",
       " {'alert__date': '2018-07-27', 'sum': 23.7703270611718},\n",
       " {'alert__date': '2018-08-01', 'sum': 47.5417397011019},\n",
       " {'alert__date': '2018-08-02', 'sum': 47.5418993399224},\n",
       " {'alert__date': '2018-08-04', 'sum': 23.7699981683217},\n",
       " {'alert__date': '2018-08-06', 'sum': 23.771054984628},\n",
       " {'alert__date': '2018-08-09', 'sum': 71.3129409419274},\n",
       " {'alert__date': '2018-08-12', 'sum': 71.3130004605716},\n",
       " {'alert__date': '2018-08-14', 'sum': 118.8549390048186},\n",
       " {'alert__date': '2018-08-15', 'sum': 118.8548276043998},\n",
       " {'alert__date': '2018-08-16', 'sum': 118.8548577970935},\n",
       " {'alert__date': '2018-08-17', 'sum': 356.5646064391313},\n",
       " {'alert__date': '2018-08-18', 'sum': 23.7703420768619},\n",
       " {'alert__date': '2018-08-20', 'sum': 23.770356956457},\n",
       " {'alert__date': '2018-08-21', 'sum': 71.312954097576},\n",
       " {'alert__date': '2018-08-22', 'sum': 95.0833464839529},\n",
       " {'alert__date': '2018-08-25', 'sum': 23.7710603376949},\n",
       " {'alert__date': '2018-08-27', 'sum': 23.770965751772},\n",
       " {'alert__date': '2018-08-29', 'sum': 71.3094978577912},\n",
       " {'alert__date': '2018-09-01', 'sum': 71.308762071345},\n",
       " {'alert__date': '2018-09-03', 'sum': 71.3132758259264},\n",
       " {'alert__date': '2018-09-06', 'sum': 23.7710603376949},\n",
       " {'alert__date': '2018-09-07', 'sum': 190.1692135817168},\n",
       " {'alert__date': '2018-09-08', 'sum': 23.7710982628217},\n",
       " {'alert__date': '2018-09-11', 'sum': 47.5410438545085},\n",
       " {'alert__date': '2018-09-12', 'sum': 23.7708769272868},\n",
       " {'alert__date': '2018-09-13', 'sum': 47.5397404609583},\n",
       " {'alert__date': '2018-09-17', 'sum': 95.084326637273},\n",
       " {'alert__date': '2018-09-18', 'sum': 118.8541204170349},\n",
       " {'alert__date': '2018-09-25', 'sum': 23.7710531700293},\n",
       " {'alert__date': '2018-09-28', 'sum': 23.7710531700293},\n",
       " {'alert__date': '2019-01-23', 'sum': 23.7710982628217},\n",
       " {'alert__date': '2019-02-03', 'sum': 47.5397963248946},\n",
       " {'alert__date': '2019-02-04', 'sum': 23.7704982673798},\n",
       " {'alert__date': '2019-02-05', 'sum': 23.7700854949296},\n",
       " {'alert__date': '2019-02-07', 'sum': 261.4699681945468},\n",
       " {'alert__date': '2019-02-08', 'sum': 118.8499444980998},\n",
       " {'alert__date': '2019-02-09', 'sum': 47.54004941306},\n",
       " {'alert__date': '2019-02-10', 'sum': 23.7700683017887},\n",
       " {'alert__date': '2019-02-11', 'sum': 118.8523596506413},\n",
       " {'alert__date': '2019-02-12', 'sum': 95.0811119328264},\n",
       " {'alert__date': '2019-02-13', 'sum': 237.7016631430062},\n",
       " {'alert__date': '2019-02-14', 'sum': 23.7700683017887},\n",
       " {'alert__date': '2019-02-15', 'sum': 23.7699802947309},\n",
       " {'alert__date': '2019-02-16', 'sum': 95.0819993792683},\n",
       " {'alert__date': '2019-02-17', 'sum': 118.8529256277166},\n",
       " {'alert__date': '2019-02-18', 'sum': 118.8501999068671},\n",
       " {'alert__date': '2019-02-19', 'sum': 47.5398147428449},\n",
       " {'alert__date': '2019-02-20', 'sum': 47.5399398579847},\n",
       " {'alert__date': '2019-02-21', 'sum': 118.8531850554918},\n",
       " {'alert__date': '2019-02-22', 'sum': 166.3926170998491},\n",
       " {'alert__date': '2019-02-23', 'sum': 23.770538006863},\n",
       " {'alert__date': '2019-02-24', 'sum': 23.7709431600405},\n",
       " {'alert__date': '2019-02-25', 'sum': 118.8506933820512},\n",
       " {'alert__date': '2019-02-26', 'sum': 47.5404911729042},\n",
       " {'alert__date': '2019-02-27', 'sum': 261.4729516488684},\n",
       " {'alert__date': '2019-02-28', 'sum': 23.7710137025131},\n",
       " {'alert__date': '2019-03-02', 'sum': 166.3960915826792},\n",
       " {'alert__date': '2019-03-03', 'sum': 309.0167862676517},\n",
       " {'alert__date': '2019-03-04', 'sum': 95.0826245972613},\n",
       " {'alert__date': '2019-03-05', 'sum': 404.1032291439538},\n",
       " {'alert__date': '2019-03-06', 'sum': 285.2514080451983},\n",
       " {'alert__date': '2019-03-07', 'sum': 95.083389740123},\n",
       " {'alert__date': '2019-03-08', 'sum': 237.708856987747},\n",
       " {'alert__date': '2019-03-09', 'sum': 285.2506053132225},\n",
       " {'alert__date': '2019-03-10', 'sum': 47.5410889880359},\n",
       " {'alert__date': '2019-03-12', 'sum': 309.0224513308207},\n",
       " {'alert__date': '2019-03-14', 'sum': 166.3903575630153},\n",
       " {'alert__date': '2019-03-15', 'sum': 332.785789781526},\n",
       " {'alert__date': '2019-03-16', 'sum': 190.1592574545529},\n",
       " {'alert__date': '2019-03-17', 'sum': 285.2496453736891},\n",
       " {'alert__date': '2019-03-18', 'sum': 118.8547179121804},\n",
       " {'alert__date': '2019-03-19', 'sum': 237.7078664999134},\n",
       " {'alert__date': '2019-03-20', 'sum': 47.5405005222296},\n",
       " {'alert__date': '2019-03-21', 'sum': 118.8509209090674},\n",
       " {'alert__date': '2019-03-22', 'sum': 166.3903293682591},\n",
       " {'alert__date': '2019-03-23', 'sum': 213.9290177063487},\n",
       " {'alert__date': '2019-03-24', 'sum': 47.5398515787456},\n",
       " {'alert__date': '2019-03-25', 'sum': 23.7710137025131},\n",
       " {'alert__date': '2019-03-26', 'sum': 166.395839497028},\n",
       " {'alert__date': '2019-03-27', 'sum': 23.7709871186549},\n",
       " {'alert__date': '2019-03-28', 'sum': 166.3948708792962},\n",
       " {'alert__date': '2019-03-29', 'sum': 23.7708856827093},\n",
       " {'alert__date': '2019-03-31', 'sum': 23.7705248964604},\n",
       " {'alert__date': '2019-04-16', 'sum': 118.855536646144},\n",
       " {'alert__date': '2019-04-18', 'sum': 23.7711102391806},\n",
       " {'alert__date': '2019-04-21', 'sum': 47.5422241982914},\n",
       " {'alert__date': '2019-04-22', 'sum': 71.3133227333031},\n",
       " {'alert__date': '2019-04-23', 'sum': 142.6264233832106},\n",
       " {'alert__date': '2019-04-25', 'sum': 23.7711063831558},\n",
       " {'alert__date': '2019-04-27', 'sum': 23.7705509811729},\n",
       " {'alert__date': '2019-04-29', 'sum': 142.6266147759788},\n",
       " {'alert__date': '2019-04-30', 'sum': 23.7711334206984},\n",
       " {'alert__date': '2019-05-03', 'sum': 23.7709274184152},\n",
       " {'alert__date': '2019-05-04', 'sum': 23.7711334206984},\n",
       " {'alert__date': '2019-05-06', 'sum': 23.7710939985123},\n",
       " {'alert__date': '2019-05-08', 'sum': 23.7708856827093},\n",
       " {'alert__date': '2019-05-11', 'sum': 47.5420293557879},\n",
       " {'alert__date': '2019-05-14', 'sum': 23.770919343463},\n",
       " {'alert__date': '2019-05-23', 'sum': 23.7710895981083},\n",
       " {'alert__date': '2019-05-25', 'sum': 23.7709274184152},\n",
       " {'alert__date': '2019-05-29', 'sum': 23.7708118287005},\n",
       " {'alert__date': '2019-05-31', 'sum': 23.7708215367792},\n",
       " {'alert__date': '2019-07-03', 'sum': 23.7705638193905},\n",
       " {'alert__date': '2019-07-05', 'sum': 23.7709583572887},\n",
       " {'alert__date': '2019-07-06', 'sum': 23.7705638193905},\n",
       " {'alert__date': '2019-07-07', 'sum': 71.3122208657362},\n",
       " {'alert__date': '2019-07-08', 'sum': 23.7709353572756},\n",
       " {'alert__date': '2019-07-09', 'sum': 71.3120304957935},\n",
       " {'alert__date': '2019-07-10', 'sum': 23.7709027852735},\n",
       " {'alert__date': '2019-07-12', 'sum': 71.313396859726},\n",
       " {'alert__date': '2019-07-13', 'sum': 47.5408010130287},\n",
       " {'alert__date': '2019-07-15', 'sum': 23.7711127342556},\n",
       " {'alert__date': '2019-07-16', 'sum': 23.7711413142105},\n",
       " {'alert__date': '2019-07-17', 'sum': 23.7704293130659},\n",
       " {'alert__date': '2019-07-18', 'sum': 47.5418729378988},\n",
       " {'alert__date': '2019-07-20', 'sum': 142.6256996076111},\n",
       " {'alert__date': '2019-07-21', 'sum': 166.3972042953881},\n",
       " {'alert__date': '2019-07-22', 'sum': 23.7707507222664},\n",
       " {'alert__date': '2019-07-23', 'sum': 118.8541642791525},\n",
       " {'alert__date': '2019-07-24', 'sum': 47.5421488924226},\n",
       " {'alert__date': '2019-07-25', 'sum': 71.3124927379258},\n",
       " {'alert__date': '2019-07-26', 'sum': 95.0844121296101},\n",
       " {'alert__date': '2019-07-27', 'sum': 499.1906643104804},\n",
       " {'alert__date': '2019-07-28', 'sum': 404.1077491758805},\n",
       " {'alert__date': '2019-07-29', 'sum': 689.3597405464504},\n",
       " {'alert__date': '2019-07-30', 'sum': 404.1076358796553},\n",
       " {'alert__date': '2019-07-31', 'sum': 522.9627011415513},\n",
       " {'alert__date': '2019-08-01', 'sum': 1759.0532175596948},\n",
       " {'alert__date': '2019-08-02', 'sum': 1045.9240503649023},\n",
       " {'alert__date': '2019-08-03', 'sum': 903.2979077135091},\n",
       " {'alert__date': '2019-08-04', 'sum': 760.6727673991651},\n",
       " {'alert__date': '2019-08-05', 'sum': 689.3601937581584},\n",
       " {'alert__date': '2019-08-06', 'sum': 927.0696057919446},\n",
       " {'alert__date': '2019-08-07', 'sum': 808.212941734808},\n",
       " {'alert__date': '2019-08-08', 'sum': 380.3331114445424},\n",
       " {'alert__date': '2019-08-09', 'sum': 404.1081248933902},\n",
       " {'alert__date': '2019-08-10', 'sum': 1212.3179658040417},\n",
       " {'alert__date': '2019-08-11', 'sum': 1901.685413908883},\n",
       " {'alert__date': '2019-08-12', 'sum': 1045.9248941020185},\n",
       " {'alert__date': '2019-08-13', 'sum': 998.3816348950452},\n",
       " {'alert__date': '2019-08-14', 'sum': 237.7102344237074},\n",
       " {'alert__date': '2019-08-15', 'sum': 356.5647154690315},\n",
       " {'alert__date': '2019-08-16', 'sum': 570.5026219937399},\n",
       " {'alert__date': '2019-08-17', 'sum': 213.9380700065024},\n",
       " {'alert__date': '2019-08-18', 'sum': 1402.4942891276353},\n",
       " {'alert__date': '2019-08-19', 'sum': 261.4787119202089},\n",
       " {'alert__date': '2019-08-20', 'sum': 404.1066647441957},\n",
       " {'alert__date': '2019-08-21', 'sum': 332.7947606668187},\n",
       " {'alert__date': '2019-08-22', 'sum': 332.7942278415628},\n",
       " {'alert__date': '2019-08-23', 'sum': 118.8556752692455},\n",
       " {'alert__date': '2019-08-24', 'sum': 118.8554010378457},\n",
       " {'alert__date': '2019-08-25', 'sum': 309.0241605864574},\n",
       " {'alert__date': '2019-08-26', 'sum': 118.8548018612814},\n",
       " {'alert__date': '2019-08-27', 'sum': 71.3132274465281},\n",
       " {'alert__date': '2019-08-28', 'sum': 23.7710322114153},\n",
       " {'alert__date': '2019-08-29', 'sum': 166.3976494407544},\n",
       " {'alert__date': '2019-08-31', 'sum': 118.8548317529735},\n",
       " {'alert__date': '2019-09-01', 'sum': 71.3118412539512},\n",
       " {'alert__date': '2019-09-03', 'sum': 23.7701694192823},\n",
       " {'alert__date': '2019-09-04', 'sum': 522.9608023067855},\n",
       " {'alert__date': '2019-09-05', 'sum': 451.6462646289769},\n",
       " {'alert__date': '2019-09-06', 'sum': 309.0243575137455},\n",
       " {'alert__date': '2019-09-07', 'sum': 237.7102387154177},\n",
       " {'alert__date': '2019-09-08', 'sum': 23.7697940738887},\n",
       " {'alert__date': '2019-09-09', 'sum': 71.313114190486},\n",
       " {'alert__date': '2019-09-10', 'sum': 237.7085238675198},\n",
       " {'alert__date': '2019-09-12', 'sum': 95.0832661239168},\n",
       " {'alert__date': '2019-09-13', 'sum': 118.8505508145106},\n",
       " {'alert__date': '2019-09-14', 'sum': 356.5537488409375},\n",
       " {'alert__date': '2019-09-15', 'sum': 166.3897267751515},\n",
       " {'alert__date': '2019-09-16', 'sum': 166.3933492856822},\n",
       " {'alert__date': '2019-09-17', 'sum': 356.564697715988},\n",
       " {'alert__date': '2019-09-18', 'sum': 118.8538904882518},\n",
       " {'alert__date': '2019-09-19', 'sum': 23.7700335072357},\n",
       " {'alert__date': '2019-09-20', 'sum': 95.0844862810453},\n",
       " {'alert__date': '2019-09-21', 'sum': 95.083620098067},\n",
       " {'alert__date': '2019-09-22', 'sum': 23.7711010300864},\n",
       " {'alert__date': '2019-09-25', 'sum': 23.7711163634561},\n",
       " {'alert__date': '2019-09-27', 'sum': 23.770356956457},\n",
       " {'alert__date': '2020-01-10', 'sum': 213.938286002553},\n",
       " {'alert__date': '2020-01-12', 'sum': 47.5418464896901},\n",
       " {'alert__date': '2020-01-16', 'sum': 118.854597427947},\n",
       " {'alert__date': '2020-01-17', 'sum': 23.7709353572756},\n",
       " {'alert__date': '2020-02-06', 'sum': 23.7711606397088},\n",
       " {'alert__date': '2020-02-08', 'sum': 47.5405205711514},\n",
       " {'alert__date': '2020-02-09', 'sum': 23.7707183317885},\n",
       " {'alert__date': '2020-02-13', 'sum': 23.7710939985123},\n",
       " {'alert__date': '2020-02-19', 'sum': 23.7711023910365},\n",
       " {'alert__date': '2020-02-20', 'sum': 261.4807961665002},\n",
       " {'alert__date': '2020-02-21', 'sum': 47.54218786093},\n",
       " {'alert__date': '2020-02-23', 'sum': 71.3120479651129},\n",
       " {'alert__date': '2020-02-24', 'sum': 23.7697940738887},\n",
       " {'alert__date': '2020-02-26', 'sum': 23.7710939985123},\n",
       " {'alert__date': '2020-02-28', 'sum': 47.5408125392275},\n",
       " {'alert__date': '2020-02-29', 'sum': 23.7698324067716},\n",
       " {'alert__date': '2020-03-02', 'sum': 23.7709730101598},\n",
       " {'alert__date': '2020-03-03', 'sum': 190.1679833583467},\n",
       " {'alert__date': '2020-03-04', 'sum': 213.9388258036666},\n",
       " {'alert__date': '2020-03-05', 'sum': 47.5419531426158},\n",
       " {'alert__date': '2020-03-06', 'sum': 71.3129296617294},\n",
       " {'alert__date': '2020-03-07', 'sum': 23.7709871186549},\n",
       " {'alert__date': '2020-03-09', 'sum': 23.7710655546678},\n",
       " {'alert__date': '2020-03-10', 'sum': 47.541974307698},\n",
       " {'alert__date': '2020-03-12', 'sum': 23.7704982673798},\n",
       " {'alert__date': '2020-03-13', 'sum': 47.5419879375226},\n",
       " {'alert__date': '2020-03-14', 'sum': 47.5419387619318},\n",
       " {'alert__date': '2020-03-16', 'sum': 95.0826544438207},\n",
       " {'alert__date': '2020-03-18', 'sum': 71.3130591633359},\n",
       " {'alert__date': '2020-03-19', 'sum': 23.7710137025131},\n",
       " {'alert__date': '2020-03-21', 'sum': 23.7707716354508},\n",
       " {'alert__date': '2020-03-22', 'sum': 190.1678312968187},\n",
       " {'alert__date': '2020-03-23', 'sum': 47.5418016244863},\n",
       " {'alert__date': '2020-03-24', 'sum': 47.5420461861171},\n",
       " {'alert__date': '2020-03-25', 'sum': 142.6255864776229},\n",
       " {'alert__date': '2020-03-26', 'sum': 118.8540986589365},\n",
       " {'alert__date': '2020-03-27', 'sum': 47.5417492729489},\n",
       " {'alert__date': '2020-03-28', 'sum': 47.5417812551458},\n",
       " {'alert__date': '2020-03-30', 'sum': 47.5420079434633},\n",
       " {'alert__date': '2020-03-31', 'sum': 23.7711517481644},\n",
       " {'alert__date': '2020-04-01', 'sum': 23.7707183317885},\n",
       " {'alert__date': '2020-04-04', 'sum': 23.7707612469044},\n",
       " {'alert__date': '2020-04-08', 'sum': 95.0831462966485},\n",
       " {'alert__date': '2020-04-09', 'sum': 47.5404749341734},\n",
       " {'alert__date': '2020-04-10', 'sum': 23.7711619552945},\n",
       " {'alert__date': '2020-04-12', 'sum': 23.7711063831558},\n",
       " {'alert__date': '2020-04-13', 'sum': 47.5409306695933},\n",
       " {'alert__date': '2020-04-14', 'sum': 23.7707716354508},\n",
       " {'alert__date': '2020-04-17', 'sum': 142.618937708341},\n",
       " {'alert__date': '2020-04-18', 'sum': 23.7706616257988},\n",
       " {'alert__date': '2020-04-19', 'sum': 23.7711023910365},\n",
       " {'alert__date': '2020-04-21', 'sum': 23.7711023910365},\n",
       " {'alert__date': '2020-04-22', 'sum': 23.7711023910365},\n",
       " {'alert__date': '2020-04-23', 'sum': 23.7711063831558},\n",
       " {'alert__date': '2020-04-26', 'sum': 47.5422046459775},\n",
       " {'alert__date': '2020-08-01', 'sum': 23.7710494954674},\n",
       " {'alert__date': '2020-08-05', 'sum': 23.770965751772},\n",
       " {'alert__date': '2020-08-08', 'sum': 71.312304517806},\n",
       " {'alert__date': '2020-08-09', 'sum': 23.7707612469044},\n",
       " {'alert__date': '2020-08-12', 'sum': 23.7705248964604},\n",
       " {'alert__date': '2020-08-13', 'sum': 23.7707716354508},\n",
       " {'alert__date': '2020-08-17', 'sum': 23.7705509811729},\n",
       " {'alert__date': '2020-08-25', 'sum': 23.7705509811729},\n",
       " {'alert__date': '2020-08-29', 'sum': 47.5411277091607},\n",
       " {'alert__date': '2020-08-31', 'sum': 23.7705638193905}]"
      ]
     },
     "execution_count": 33,
     "metadata": {},
     "output_type": "execute_result"
    }
   ],
   "source": [
    "sql = \"\"\"SELECT SUM(gfw_area__ha),\n",
    "              alert__date\n",
    "        FROM data\n",
    "        WHERE alert__date > '2015-01-01'\n",
    "        GROUP BY alert__date\n",
    "       \"\"\"\n",
    "\n",
    "result = d.query(sql=sql, geostore_id=gid, verbose=True)\n",
    "result"
   ]
  },
  {
   "cell_type": "code",
   "execution_count": null,
   "metadata": {},
   "outputs": [],
   "source": []
  }
 ],
 "metadata": {
  "interpreter": {
   "hash": "aee8b7b246df8f9039afb4144a1f6fd8d2ca17a180786b69acc140d282b71a49"
  },
  "kernelspec": {
   "display_name": "Python 3",
   "language": "python",
   "name": "python3"
  },
  "language_info": {
   "codemirror_mode": {
    "name": "ipython",
    "version": 3
   },
   "file_extension": ".py",
   "mimetype": "text/x-python",
   "name": "python",
   "nbconvert_exporter": "python",
   "pygments_lexer": "ipython3",
   "version": "3.6.2"
  }
 },
 "nbformat": 4,
 "nbformat_minor": 2
}
