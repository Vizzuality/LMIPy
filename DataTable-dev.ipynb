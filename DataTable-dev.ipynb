{
 "cells": [
  {
   "cell_type": "markdown",
   "metadata": {},
   "source": [
    "# GFW Data-API Playground\n",
    "\n",
    "When developing, to test newly saved code:\n",
    "\n",
    "- restart kernel\n",
    "- after each save in the command line use: `!python setup.py develop ` or `!pip install -e .` to install\n",
    "- then re-import `LMIPy`\n",
    "- use `py.test` in cli to execute tests\n",
    "\n",
    "### To release\n",
    "\n",
    "1. Increment the version in `setup.py`.\n",
    "2. Push changes to github\n",
    "3. Checkout to master, pull\n",
    "3. Remove the `dist` folder\n",
    "3. In the CLI run `make pypi`\n",
    "4. Check version on [Colab](https://colab.research.google.com/drive/1tRye2QAytWzuki3DQyg4G7fsFFKlZNic#scrollTo=EN4iMVRm6N0Y)\n",
    "\n"
   ]
  },
  {
   "cell_type": "code",
   "execution_count": 1,
   "metadata": {
    "scrolled": false
   },
   "outputs": [
    {
     "name": "stderr",
     "output_type": "stream",
     "text": [
      "/Users/vizzuality/anaconda3/lib/python3.6/site-packages/geopandas/_compat.py:88: UserWarning: The Shapely GEOS version (3.9.1-CAPI-1.14.2) is incompatible with the GEOS version PyGEOS was compiled with (3.8.1-CAPI-1.13.3). Conversions between both will be slow.\n",
      "  shapely_geos_version, geos_capi_version_string\n"
     ]
    },
    {
     "name": "stdout",
     "output_type": "stream",
     "text": [
      "LMI ver. 0.5.0 ready!\n"
     ]
    }
   ],
   "source": [
    "!python setup.py develop \n",
    "\n",
    "from IPython.display import clear_output,display\n",
    "clear_output()\n",
    "\n",
    "import LMIPy as lmi\n",
    "from LMIPy import utils\n",
    "\n",
    "print(f'LMI ver. {lmi.__version__} ready!')"
   ]
  },
  {
   "cell_type": "code",
   "execution_count": null,
   "metadata": {},
   "outputs": [],
   "source": [
    "# {1:2}[3]"
   ]
  },
  {
   "cell_type": "markdown",
   "metadata": {},
   "source": [
    "# RW User Class"
   ]
  },
  {
   "cell_type": "code",
   "execution_count": 2,
   "metadata": {},
   "outputs": [],
   "source": [
    "ENV = 'production'\n",
    "# ENV = 'preproduction'\n",
    "# ENV = 'staging'\n",
    "\n",
    "u = lmi.User(env=ENV)"
   ]
  },
  {
   "cell_type": "code",
   "execution_count": 4,
   "metadata": {},
   "outputs": [
    {
     "name": "stdout",
     "output_type": "stream",
     "text": [
      "Password: ········\n"
     ]
    }
   ],
   "source": [
    "email = 'adam.pain@vizzuality.com'\n",
    "u.login(email=email)"
   ]
  },
  {
   "cell_type": "code",
   "execution_count": 5,
   "metadata": {},
   "outputs": [
    {
     "name": "stdout",
     "output_type": "stream",
     "text": [
      "user_id: 59db4eace9c1380001d6e4c3\n",
      "role: ADMIN\n",
      "apps: ['rw', 'gfw', 'prep', 'aqueduct', 'forest-atlas', 'data4sdgs', 'gfw-climate', 'gfw-pro', 'ghg-gdp', 'ng']\n"
     ]
    }
   ],
   "source": [
    "print(f\"user_id: {u._id}\")\n",
    "print(f\"role: {u.role}\")\n",
    "print(f\"apps: {u.apps}\")\n",
    "\n",
    "TOKEN = u.token"
   ]
  },
  {
   "cell_type": "markdown",
   "metadata": {},
   "source": [
    "# Data API"
   ]
  },
  {
   "cell_type": "markdown",
   "metadata": {},
   "source": [
    "### Get Data-API Keys"
   ]
  },
  {
   "cell_type": "code",
   "execution_count": 6,
   "metadata": {},
   "outputs": [],
   "source": [
    "ENV = 'production'\n",
    "# ENV = 'preproduction'\n",
    "# ENV = 'staging'"
   ]
  },
  {
   "cell_type": "code",
   "execution_count": 7,
   "metadata": {},
   "outputs": [],
   "source": [
    "## Get data-api creds (staging only; not currently enforced in production)\n",
    "## Always use Prod RW API TOKEN\n",
    "creds = lmi.Auth(env=ENV, rw_api_token=TOKEN)"
   ]
  },
  {
   "cell_type": "code",
   "execution_count": 8,
   "metadata": {},
   "outputs": [
    {
     "data": {
      "text/plain": [
       "[GFW Data API Credential: 'AJ Prod Test Key' (does not expire),\n",
       " GFW Data API Credential: 'GFW Flagship Production Key' (does not expire),\n",
       " GFW Data API Credential: 'GFW Flagship Staging Key' (does not expire),\n",
       " GFW Data API Credential: 'AJ data-api' (does not expire)]"
      ]
     },
     "execution_count": 8,
     "metadata": {},
     "output_type": "execute_result"
    }
   ],
   "source": [
    "## See keys that I have generated\n",
    "creds.keys"
   ]
  },
  {
   "cell_type": "code",
   "execution_count": 9,
   "metadata": {},
   "outputs": [],
   "source": [
    "## Set data-api key\n",
    "DATA_API_KEY = creds.keys[1].api_key"
   ]
  },
  {
   "cell_type": "markdown",
   "metadata": {},
   "source": [
    "### Search Data Catalogue"
   ]
  },
  {
   "cell_type": "code",
   "execution_count": 10,
   "metadata": {},
   "outputs": [
    {
     "data": {
      "text/plain": [
       "{1: GFW Data API Dataset: 'gfw_aboveground_carbon',\n",
       " 2: GFW Data API Dataset: 'gfw_belowground_carbon',\n",
       " 3: GFW Data API Dataset: 'gfw_deadwood_carbon',\n",
       " 4: GFW Data API Dataset: 'gfw_forest_carbon_gross_emissions',\n",
       " 5: GFW Data API Dataset: 'gfw_forest_carbon_gross_removals',\n",
       " 6: GFW Data API Dataset: 'gfw_forest_carbon_net_flux',\n",
       " 7: GFW Data API Dataset: 'gfw_litter_carbon',\n",
       " 8: GFW Data API Dataset: 'gfw_soil_carbon_stocks'}"
      ]
     },
     "execution_count": 10,
     "metadata": {},
     "output_type": "execute_result"
    }
   ],
   "source": [
    "## Search the catalogue to populate datasets\n",
    "col = lmi.DataCatalogue(env=ENV, search='carbon', token=DATA_API_KEY)\n",
    "datasets = col.datasets\n",
    "datasets"
   ]
  },
  {
   "cell_type": "code",
   "execution_count": 11,
   "metadata": {},
   "outputs": [
    {
     "data": {
      "text/plain": [
       "GFW Data API Dataset: 'gfw_belowground_carbon'"
      ]
     },
     "execution_count": 11,
     "metadata": {},
     "output_type": "execute_result"
    }
   ],
   "source": [
    "## Select Dataset and populate with metadata as needed\n",
    "d = datasets[2]\n",
    "d"
   ]
  },
  {
   "cell_type": "code",
   "execution_count": 12,
   "metadata": {},
   "outputs": [
    {
     "name": "stdout",
     "output_type": "stream",
     "text": [
      "https://data-api.globalforestwatch.org/dataset/gfw_belowground_carbon/v20200824\n",
      "https://data-api.globalforestwatch.org/dataset/gfw_belowground_carbon\n",
      "https://data-api.globalforestwatch.org/dataset/gfw_belowground_carbon/v20200824/fields\n"
     ]
    },
    {
     "data": {
      "text/plain": [
       "'Contextual layer for the GFW forest carbon model'"
      ]
     },
     "execution_count": 12,
     "metadata": {},
     "output_type": "execute_result"
    }
   ],
   "source": [
    "## Populate metadata etc\n",
    "d.get_metadata(verbose=True)\n",
    "d.get_versions(True)\n",
    "d.get_fields(True)\n",
    "\n",
    "d.metadata['function']"
   ]
  },
  {
   "cell_type": "markdown",
   "metadata": {},
   "source": [
    "### Use Slug Directly"
   ]
  },
  {
   "cell_type": "code",
   "execution_count": 13,
   "metadata": {},
   "outputs": [],
   "source": [
    "## Instantiate new dataset object using the table name slug directly\n",
    "dataset_name = 'gfw_forest_carbon_net_flux'\n",
    "\n",
    "d = lmi.GFWDataset(env=ENV, slug=dataset_name, token=DATA_API_KEY)"
   ]
  },
  {
   "cell_type": "code",
   "execution_count": 14,
   "metadata": {},
   "outputs": [
    {
     "name": "stdout",
     "output_type": "stream",
     "text": [
      "https://data-api.globalforestwatch.org/dataset/gfw_forest_carbon_net_flux/v20210331\n",
      "https://data-api.globalforestwatch.org/dataset/gfw_forest_carbon_net_flux\n",
      "https://data-api.globalforestwatch.org/dataset/gfw_forest_carbon_net_flux/v20210331/fields\n"
     ]
    },
    {
     "data": {
      "text/plain": [
       "['v20210127', 'v20210209', 'v20210305', 'v20210331']"
      ]
     },
     "execution_count": 14,
     "metadata": {},
     "output_type": "execute_result"
    }
   ],
   "source": [
    "## Populate metadata etc\n",
    "d.get_metadata(verbose=True)\n",
    "d.get_versions(True)\n",
    "d.get_fields(True)\n",
    "\n",
    "d.versions"
   ]
  },
  {
   "cell_type": "code",
   "execution_count": 15,
   "metadata": {},
   "outputs": [
    {
     "data": {
      "text/plain": [
       "['is__inpe_prodes',\n",
       " 'gfw_oil_gas__gfw_fid',\n",
       " 'inpe_amazonia_prodes__year',\n",
       " 'rspo_southeast_asia_land_cover_2010__land_cover_class',\n",
       " 'gfw_wood_fiber__gfw_fid',\n",
       " 'rspo_oil_palm__rspocert',\n",
       " 'ibge_bra_biomes__name',\n",
       " 'gfw_logging__gfw_fid',\n",
       " 'wdpa_protected_areas__iucn_cat',\n",
       " 'gfw_forest_carbon_gross_emissions__Mg_CO2e_ha',\n",
       " 'gfw_forest_carbon_net_flux__Mg_CO2e_ha',\n",
       " 'gfw_forest_carbon_gross_removals__Mg_CO2e_ha',\n",
       " 'idn_forest_area__class_compressed',\n",
       " 'umd_tree_cover_loss__threshold',\n",
       " 'is__umd_tree_cover_gain',\n",
       " 'umd_tree_cover_density_2010__threshold',\n",
       " 'inpe_prodes__gfw_fid',\n",
       " 'gfw_peatlands__Mg_CO2_ha',\n",
       " 'gfw_deadwood_carbon__Mg_CO2_ha',\n",
       " 'gmw_global_mangrove_extent_2016__gfw_fid',\n",
       " 'gfw_belowground_carbon__Mg_CO2_ha',\n",
       " 'gfw_aboveground_carbon__Mg_CO2_ha',\n",
       " 'gfw_litter_carbon__Mg_CO2_ha',\n",
       " 'landmark_icls__gfw_fid',\n",
       " 'birdlife_key_biodiversity_areas__gfw_fid',\n",
       " 'idn_forest_area__gfw_fid',\n",
       " 'gfw_forest_carbon_net_flux__Mg_CO2e_px',\n",
       " 'gfw_forest_carbon_gross_emissions__Mg_CO2e_px',\n",
       " 'gfw_forest_carbon_gross_removals__Mg_CO2e_px',\n",
       " 'gfw_aboveground_carbon__Mg_CO2_ha-1',\n",
       " 'gfw_aboveground_carbon__Mg_CO2',\n",
       " 'gfw_belowground_carbon__Mg_CO2_ha-1',\n",
       " 'gfw_belowground_carbon__Mg_CO2',\n",
       " 'gfw_deadwood_carbon__Mg_CO2_ha-1',\n",
       " 'gfw_deadwood_carbon__Mg_CO2',\n",
       " 'gfw_litter_carbon__Mg_CO2_ha-1',\n",
       " 'gfw_litter_carbon__Mg_CO2',\n",
       " 'is__wdpa_protected_areas',\n",
       " 'is__gfw_oil_palm',\n",
       " 'is__idn_forest_moratorium',\n",
       " 'umd_glad_landsat_alerts__date_conf',\n",
       " 'umd_glad_landsat_alerts__date',\n",
       " 'umd_glad_landsat_alerts__confidence',\n",
       " 'is__wwf_tiger_conservation_landscapes',\n",
       " 'is__birdlife_alliance_for_zero_extinction_sites',\n",
       " 'is__birdlife_key_biodiversity_areas',\n",
       " 'gfw_forest_carbon_gross_emissions__Mg_CO2e_ha-1',\n",
       " 'gfw_forest_carbon_gross_emissions__Mg_CO2e',\n",
       " 'gfw_forest_carbon_net_flux__Mg_CO2e_ha-1',\n",
       " 'gfw_forest_carbon_net_flux__Mg_CO2e',\n",
       " 'gfw_forest_carbon_gross_removals__Mg_CO2e_ha-1',\n",
       " 'gfw_forest_carbon_gross_removals__Mg_CO2e',\n",
       " 'umd_tree_cover_density_2000__threshold',\n",
       " 'umd_tree_cover_loss__year',\n",
       " 'inpe_prodes__year',\n",
       " 'is__gfw_mining_concessions',\n",
       " 'is__gfw_peatlands',\n",
       " 'is__gmw_global_mangrove_extent_2016',\n",
       " 'is__umd_regional_primary_forest_2001',\n",
       " 'ifl_intact_forest_landscapes__year']"
      ]
     },
     "execution_count": 15,
     "metadata": {},
     "output_type": "execute_result"
    }
   ],
   "source": [
    "# Queryable fields\n",
    "d.fields"
   ]
  },
  {
   "cell_type": "code",
   "execution_count": 16,
   "metadata": {},
   "outputs": [],
   "source": [
    "## Query using a geostore to do zonal stats\n",
    "gid = 'c3833748f6815d31bad47d47f147c0f0'"
   ]
  },
  {
   "cell_type": "code",
   "execution_count": 17,
   "metadata": {},
   "outputs": [
    {
     "name": "stdout",
     "output_type": "stream",
     "text": [
      "https://data-api.globalforestwatch.org/dataset/gfw_forest_carbon_net_flux/v20210331/query/json?sql=SELECT+SUM%28gfw_forest_carbon_net_flux__Mg_CO2e%29%2C%0A++++++++++++++SUM%28gfw_forest_carbon_gross_emissions__Mg_CO2e%29%2C%0A++++++++++++++SUM%28gfw_forest_carbon_gross_removals__Mg_CO2e%29%0A++++++++FROM+data%0A++++++++WHERE+umd_tree_cover_density_2000__threshold+%3E%3D+30%0A++++++++OR+is__umd_tree_cover_gain+%3D+%27true%27&geostore_id=c3833748f6815d31bad47d47f147c0f0&geostore_origin=rw\n"
     ]
    },
    {
     "data": {
      "text/plain": [
       "[{'gfw_forest_carbon_gross_emissions__Mg_CO2e': 703414800.43941,\n",
       "  'gfw_forest_carbon_gross_removals__Mg_CO2e': 224964899.2003,\n",
       "  'gfw_forest_carbon_net_flux__Mg_CO2e': 478449900.04182994}]"
      ]
     },
     "execution_count": 17,
     "metadata": {},
     "output_type": "execute_result"
    }
   ],
   "source": [
    "sql = \"\"\"SELECT SUM(gfw_forest_carbon_net_flux__Mg_CO2e),\n",
    "              SUM(gfw_forest_carbon_gross_emissions__Mg_CO2e),\n",
    "              SUM(gfw_forest_carbon_gross_removals__Mg_CO2e)\n",
    "        FROM data\n",
    "        WHERE umd_tree_cover_density_2000__threshold >= 30\n",
    "        OR is__umd_tree_cover_gain = 'true'\"\"\"\n",
    "\n",
    "result = d.query(sql=sql, geostore_id=gid, verbose=True)\n",
    "result"
   ]
  },
  {
   "cell_type": "code",
   "execution_count": null,
   "metadata": {},
   "outputs": [],
   "source": []
  }
 ],
 "metadata": {
  "kernelspec": {
   "display_name": "Python 3",
   "language": "python",
   "name": "python3"
  },
  "language_info": {
   "codemirror_mode": {
    "name": "ipython",
    "version": 3
   },
   "file_extension": ".py",
   "mimetype": "text/x-python",
   "name": "python",
   "nbconvert_exporter": "python",
   "pygments_lexer": "ipython3",
   "version": "3.6.2"
  }
 },
 "nbformat": 4,
 "nbformat_minor": 2
}
