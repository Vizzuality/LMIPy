{
 "cells": [
  {
   "cell_type": "markdown",
   "metadata": {},
   "source": [
    "# GFW Data-API Playground\n",
    "\n",
    "When developing, to test newly saved code:\n",
    "\n",
    "- restart kernel\n",
    "- after each save in the command line use: `!python setup.py develop ` or `!pip install -e .` to install\n",
    "- then re-import `LMIPy`\n",
    "- use `py.test` in cli to execute tests\n",
    "\n",
    "### To release\n",
    "\n",
    "1. Increment the version in `setup.py`.\n",
    "2. Push changes to github\n",
    "3. Checkout to master, pull\n",
    "3. Remove the `dist` folder\n",
    "3. In the CLI run `make pypi`\n",
    "4. Check version on [Colab](https://colab.research.google.com/drive/1tRye2QAytWzuki3DQyg4G7fsFFKlZNic#scrollTo=EN4iMVRm6N0Y)\n",
    "\n"
   ]
  },
  {
   "cell_type": "code",
   "execution_count": 25,
   "metadata": {
    "scrolled": false
   },
   "outputs": [
    {
     "name": "stdout",
     "output_type": "stream",
     "text": [
      "LMI ver. 0.5.0 ready!\n"
     ]
    }
   ],
   "source": [
    "!python setup.py develop \n",
    "\n",
    "from IPython.display import clear_output,display\n",
    "clear_output()\n",
    "\n",
    "import LMIPy as lmi\n",
    "from LMIPy import utils\n",
    "\n",
    "print(f'LMI ver. {lmi.__version__} ready!')"
   ]
  },
  {
   "cell_type": "code",
   "execution_count": null,
   "metadata": {},
   "outputs": [],
   "source": [
    "# {1:2}[3]"
   ]
  },
  {
   "cell_type": "markdown",
   "metadata": {},
   "source": [
    "# RW User Class"
   ]
  },
  {
   "cell_type": "code",
   "execution_count": 26,
   "metadata": {},
   "outputs": [],
   "source": [
    "ENV = 'production'\n",
    "# ENV = 'preproduction'\n",
    "# ENV = 'staging'\n",
    "\n",
    "u = lmi.User(env=ENV)"
   ]
  },
  {
   "cell_type": "code",
   "execution_count": 27,
   "metadata": {},
   "outputs": [
    {
     "name": "stdout",
     "output_type": "stream",
     "text": [
      "Password: ········\n"
     ]
    }
   ],
   "source": [
    "email = 'adam.pain@vizzuality.com'\n",
    "u.login(email=email)"
   ]
  },
  {
   "cell_type": "code",
   "execution_count": 28,
   "metadata": {},
   "outputs": [
    {
     "name": "stdout",
     "output_type": "stream",
     "text": [
      "user_id: 59db4eace9c1380001d6e4c3\n",
      "role: ADMIN\n",
      "apps: ['rw', 'gfw', 'prep', 'aqueduct', 'forest-atlas', 'data4sdgs', 'gfw-climate', 'gfw-pro', 'ghg-gdp', 'ng']\n"
     ]
    }
   ],
   "source": [
    "print(f\"user_id: {u._id}\")\n",
    "print(f\"role: {u.role}\")\n",
    "print(f\"apps: {u.apps}\")\n",
    "\n",
    "TOKEN = u.token"
   ]
  },
  {
   "cell_type": "markdown",
   "metadata": {},
   "source": [
    "# Data API"
   ]
  },
  {
   "cell_type": "markdown",
   "metadata": {},
   "source": [
    "### Get Data-API Keys"
   ]
  },
  {
   "cell_type": "code",
   "execution_count": 6,
   "metadata": {},
   "outputs": [],
   "source": [
    "ENV = 'production'\n",
    "# ENV = 'preproduction'\n",
    "# ENV = 'staging'"
   ]
  },
  {
   "cell_type": "code",
   "execution_count": 7,
   "metadata": {},
   "outputs": [],
   "source": [
    "## Get data-api creds (staging only; not currently enforced in production)\n",
    "## Always use Prod RW API TOKEN\n",
    "creds = lmi.Auth(env=ENV, rw_api_token=TOKEN)"
   ]
  },
  {
   "cell_type": "code",
   "execution_count": 8,
   "metadata": {},
   "outputs": [
    {
     "data": {
      "text/plain": [
       "[GFW Data API Credential: 'AJ Prod Test Key' (does not expire),\n",
       " GFW Data API Credential: 'GFW Flagship Production Key' (does not expire),\n",
       " GFW Data API Credential: 'GFW Flagship Staging Key' (does not expire),\n",
       " GFW Data API Credential: 'AJ data-api' (does not expire)]"
      ]
     },
     "execution_count": 8,
     "metadata": {},
     "output_type": "execute_result"
    }
   ],
   "source": [
    "## See keys that I have generated\n",
    "creds.keys"
   ]
  },
  {
   "cell_type": "code",
   "execution_count": 9,
   "metadata": {},
   "outputs": [],
   "source": [
    "## Set data-api key\n",
    "DATA_API_KEY = creds.keys[1].api_key"
   ]
  },
  {
   "cell_type": "markdown",
   "metadata": {},
   "source": [
    "### Search Data Catalogue"
   ]
  },
  {
   "cell_type": "code",
   "execution_count": 39,
   "metadata": {},
   "outputs": [
    {
     "data": {
      "text/plain": [
       "{1: GFW Data API Dataset: 'umd_regional_primary_forest_2001',\n",
       " 2: GFW Data API Dataset: 'umd_glad_landsat_alerts',\n",
       " 3: GFW Data API Dataset: 'umd_tree_cover_gain',\n",
       " 4: GFW Data API Dataset: 'umd_modis_burned_areas',\n",
       " 5: GFW Data API Dataset: 'umd_tree_cover_height_2019',\n",
       " 6: GFW Data API Dataset: 'umd_soy_planted_area',\n",
       " 7: GFW Data API Dataset: 'umd_tree_cover_loss',\n",
       " 8: GFW Data API Dataset: 'umd_tree_cover_density_2010',\n",
       " 9: GFW Data API Dataset: 'umd_area_2013',\n",
       " 10: GFW Data API Dataset: 'umd_tree_cover_density_2000',\n",
       " 11: GFW Data API Dataset: 'umd_glad_sentinel2_alerts_coverage',\n",
       " 12: GFW Data API Dataset: 'umd_drivers',\n",
       " 13: GFW Data API Dataset: 'umd_glad_sentinel2_alerts'}"
      ]
     },
     "execution_count": 39,
     "metadata": {},
     "output_type": "execute_result"
    }
   ],
   "source": [
    "## Search the catalogue to populate datasets\n",
    "col = lmi.DataCatalogue(env=ENV, search='umd', token=DATA_API_KEY)\n",
    "datasets = col.datasets\n",
    "datasets"
   ]
  },
  {
   "cell_type": "code",
   "execution_count": 40,
   "metadata": {},
   "outputs": [
    {
     "data": {
      "text/plain": [
       "GFW Data API Dataset: 'umd_tree_cover_loss'"
      ]
     },
     "execution_count": 40,
     "metadata": {},
     "output_type": "execute_result"
    }
   ],
   "source": [
    "## Select Dataset and populate with metadata as needed\n",
    "d = datasets[7]\n",
    "d"
   ]
  },
  {
   "cell_type": "code",
   "execution_count": 41,
   "metadata": {},
   "outputs": [
    {
     "name": "stdout",
     "output_type": "stream",
     "text": [
      "https://data-api.globalforestwatch.org/dataset/umd_tree_cover_loss/v1.8\n",
      "https://data-api.globalforestwatch.org/dataset/umd_tree_cover_loss\n",
      "https://data-api.globalforestwatch.org/dataset/umd_tree_cover_loss/v1.8/fields\n"
     ]
    },
    {
     "data": {
      "text/plain": [
       "'Identifies areas of gross tree cover loss.'"
      ]
     },
     "execution_count": 41,
     "metadata": {},
     "output_type": "execute_result"
    }
   ],
   "source": [
    "## Populate metadata etc\n",
    "d.get_metadata(verbose=True)\n",
    "d.get_versions(True)\n",
    "d.get_fields(True)\n",
    "\n",
    "d.metadata['function']"
   ]
  },
  {
   "cell_type": "code",
   "execution_count": 43,
   "metadata": {},
   "outputs": [
    {
     "data": {
      "text/plain": [
       "{'added_date': '2014-02-01',\n",
       " 'analysis': None,\n",
       " 'cautions': 'In this data set, “tree cover” is defined as all vegetation greater than 5 meters in height, and may take the form of natural forests or plantations across a range of canopy densities. “Loss” indicates the removal or mortality of tree cover and can be due to a variety of factors, including mechanical harvesting, fire, disease, or storm damage. As such, “loss” does not equate to deforestation.\\nDue to variation in research methodology and date of content, tree cover, loss, and gain data sets cannot be compared accurately against each other. Accordingly, “net” loss cannot be calculated by subtracting figures for tree cover gain from tree cover loss, and current (post-2000) tree cover cannot be determined by subtracting figures for annual tree cover loss from year 2000 tree cover.\\nThe 2011-2019 data was produced using [updated methodology](http://earthenginepartners.appspot.com/science-2013-global-forest/download_v1.7.html). Comparisons between the original 2001-2010 data and the 2011-2019 update should be performed with caution.\\nThe authors evaluated the overall prevalence of false positives (commission errors) in this data at 13%, and the prevalence of false negatives (omission errors) at 12%, though the accuracy varies by biome and thus may be higher or lower in any particular location. The model often misses disturbances in smallholder landscapes, resulting in lower accuracy of the data in sub-Saharan Africa, where this type of disturbance is more common. The authors are 75 percent confident that the loss occurred within the stated year, and 97 percent confident that it occurred within a year before or after. Users of the data can smooth out such uncertainty by examining the average over multiple years. Read our [blog series](http://blog.globalforestwatch.org/data/how-accurate-is-accurate-enough-examining-the-glad-global-tree-cover-change-data-part-1.html) on the accuracy of this data for more information.',\n",
       " 'citation': 'Use the following credit when these data are displayed:\\nSource: Hansen/UMD/Google/USGS/NASA, accessed through Global Forest Watch\\nUse the following credit when these data are cited:\\nHansen, M. C., P. V. Potapov, R. Moore, M. Hancher, S. A. Turubanova, A. Tyukavina, D. Thau, S. V. Stehman, S. J. Goetz, T. R. Loveland, A. Kommareddy, A. Egorov, L. Chini, C. O. Justice, and J. R. G. Townshend. 2013. “High-Resolution Global Maps of 21st-Century Forest Cover Change.” *Science* 342 (15 November): 850–53. Data available on-line from:http://earthenginepartners.appspot.com/science-2013-global-forest. Accessed through Global Forest Watch on [date]. www.globalforestwatch.org',\n",
       " 'content_date': None,\n",
       " 'content_date_range': None,\n",
       " 'data_language': 'English',\n",
       " 'data_updates': None,\n",
       " 'download': None,\n",
       " 'function': 'Identifies areas of gross tree cover loss.',\n",
       " 'geographic_coverage': 'Global land area (excluding Antarctica and other Arctic islands).',\n",
       " 'key_restrictions': 'CC BY 4.0',\n",
       " 'last_update': None,\n",
       " 'learn_more': 'http://science.sciencemag.org/content/342/6160/850',\n",
       " 'license': '[CC BY 4.0](http://creativecommons.org/licenses/by/4.0/)',\n",
       " 'other': None,\n",
       " 'overview': 'This data set, a collaboration between the [GLAD](http://glad.geog.umd.edu/) (Global Land Analysis & Discovery) lab at the University of Maryland, Google, USGS, and NASA, measures areas of tree cover loss across all global land (except Antarctica and other Arctic islands) at approximately 30 × 30 meter resolution. The data were generated using multispectral satellite imagery from the Landsat 5 thematic mapper (TM), the Landsat 7 thematic mapper plus (ETM+), and the Landsat 8 Operational Land Imager (OLI) sensors. Over 1 million satellite images were processed and analyzed, including over 600,000 Landsat 7 images for the 2000-2012 interval, and more than 400,000 Landsat 5, 7, and 8 images for updates for the 2011-2019 interval. The clear land surface observations in the satellite images were assembled and a supervised learning algorithm was applied to identify per pixel tree cover loss.\\nIn this data set, “tree cover” is defined as all vegetation greater than 5 meters in height, and may take the form of natural forests or plantations across a range of canopy densities. Tree cover loss is defined as “stand replacement disturbance,” or the complete removal of tree cover canopy at the Landsat pixel scale. Tree cover loss may be the result of human activities, including forestry practices such as timber harvesting or deforestation (the conversion of natural forest to other land uses), as well as natural causes such as disease or storm damage. Fire is another widespread cause of tree cover loss, and can be either natural or human-induced.\\nThis data set has been updated five times since its creation, and now includes loss up to 2019 (Version 1.7). The analysis method has been modified in numerous ways, including new data for the target year, re-processed data for previous years (2011 and 2012 for the Version 1.1 update, 2012 and 2013 for the Version 1.2 update, and 2014 for the Version 1.3 update), and improved modelling and calibration. These modifications improve change detection for 2011-2019, including better detection of boreal loss due to fire, smallholder rotation agriculture in tropical forests, selective losing, and short cycle plantations. Eventually, a future “Version 2.0” will include reprocessing for 2000-2010 data, but in the meantime integrated use of the original data and Version 1.7 should be performed with caution. Read more about the Version 1.7 update [here](http://earthenginepartners.appspot.com/science-2013-global-forest/download_v1.7.html).\\nWhen zoomed out (< zoom level 13), pixels of loss are shaded according to the density of loss at the 30 x 30 meter scale. Pixels with darker shading represent areas with a higher concentration of tree cover loss, whereas pixels with lighter shading indicate a lower concentration of tree cover loss. There is no variation in pixel shading when the data is at full resolution (≥ zoom level 13).\\nThe tree cover canopy density of the displayed data varies according to the selection - use the legend on the map to change the minimum tree cover canopy density threshold.',\n",
       " 'resolution': '30 × 30 meters',\n",
       " 'scale': None,\n",
       " 'source': 'Hansen, M. C., P. V. Potapov, R. Moore, M. Hancher, S. A. Turubanova, A. Tyukavina, D. Thau, S. V. Stehman, S. J. Goetz, T. R. Loveland, A. Kommareddy, A. Egorov, L. Chini, C. O. Justice, and J. R. G. Townshend. 2013. “High-Resolution Global Maps of 21st-Century Forest Cover Change.” *Science* 342 (15 November): 850–53. Data available from: [earthenginepartners.appspot.com/science-2013-global-forest](http://earthenginepartners.appspot.com/science-2013-global-forest).',\n",
       " 'subtitle': '(annual, 30m, global, Hansen/UMD/Google/USGS/NASA)',\n",
       " 'tags': ['Forest Change'],\n",
       " 'title': 'UMD Tree Cover Loss',\n",
       " 'update_frequency': 'Annual',\n",
       " 'version_number': None,\n",
       " 'why_added': 'Best available global data on forest change'}"
      ]
     },
     "execution_count": 43,
     "metadata": {},
     "output_type": "execute_result"
    }
   ],
   "source": [
    "d.metadata"
   ]
  },
  {
   "cell_type": "markdown",
   "metadata": {},
   "source": [
    "### Use Slug Directly"
   ]
  },
  {
   "cell_type": "code",
   "execution_count": 44,
   "metadata": {},
   "outputs": [],
   "source": [
    "## Instantiate new dataset object using the table name slug directly\n",
    "dataset_name = 'gfw_forest_carbon_net_flux'\n",
    "\n",
    "d = lmi.GFWDataset(env=ENV, slug=dataset_name, token=DATA_API_KEY)"
   ]
  },
  {
   "cell_type": "code",
   "execution_count": 45,
   "metadata": {},
   "outputs": [
    {
     "name": "stdout",
     "output_type": "stream",
     "text": [
      "https://data-api.globalforestwatch.org/dataset/gfw_forest_carbon_net_flux/v20210331\n",
      "https://data-api.globalforestwatch.org/dataset/gfw_forest_carbon_net_flux\n",
      "https://data-api.globalforestwatch.org/dataset/gfw_forest_carbon_net_flux/v20210331/fields\n"
     ]
    },
    {
     "data": {
      "text/plain": [
       "['v20210127', 'v20210209', 'v20210305', 'v20210331']"
      ]
     },
     "execution_count": 45,
     "metadata": {},
     "output_type": "execute_result"
    }
   ],
   "source": [
    "## Populate metadata etc\n",
    "d.get_metadata(verbose=True)\n",
    "d.get_versions(True)\n",
    "d.get_fields(True)\n",
    "\n",
    "d.versions"
   ]
  },
  {
   "cell_type": "code",
   "execution_count": 46,
   "metadata": {},
   "outputs": [
    {
     "data": {
      "text/plain": [
       "['is__inpe_prodes',\n",
       " 'gfw_oil_gas__gfw_fid',\n",
       " 'inpe_amazonia_prodes__year',\n",
       " 'rspo_southeast_asia_land_cover_2010__land_cover_class',\n",
       " 'gfw_wood_fiber__gfw_fid',\n",
       " 'rspo_oil_palm__rspocert',\n",
       " 'ibge_bra_biomes__name',\n",
       " 'gfw_logging__gfw_fid',\n",
       " 'wdpa_protected_areas__iucn_cat',\n",
       " 'gfw_forest_carbon_gross_emissions__Mg_CO2e_ha',\n",
       " 'gfw_forest_carbon_net_flux__Mg_CO2e_ha',\n",
       " 'gfw_forest_carbon_gross_removals__Mg_CO2e_ha',\n",
       " 'idn_forest_area__class_compressed',\n",
       " 'umd_tree_cover_loss__threshold',\n",
       " 'is__umd_tree_cover_gain',\n",
       " 'umd_tree_cover_density_2010__threshold',\n",
       " 'inpe_prodes__gfw_fid',\n",
       " 'gfw_peatlands__Mg_CO2_ha',\n",
       " 'gfw_deadwood_carbon__Mg_CO2_ha',\n",
       " 'gmw_global_mangrove_extent_2016__gfw_fid',\n",
       " 'gfw_belowground_carbon__Mg_CO2_ha',\n",
       " 'gfw_aboveground_carbon__Mg_CO2_ha',\n",
       " 'gfw_litter_carbon__Mg_CO2_ha',\n",
       " 'landmark_icls__gfw_fid',\n",
       " 'birdlife_key_biodiversity_areas__gfw_fid',\n",
       " 'idn_forest_area__gfw_fid',\n",
       " 'gfw_forest_carbon_net_flux__Mg_CO2e_px',\n",
       " 'gfw_forest_carbon_gross_emissions__Mg_CO2e_px',\n",
       " 'gfw_forest_carbon_gross_removals__Mg_CO2e_px',\n",
       " 'gfw_aboveground_carbon__Mg_CO2_ha-1',\n",
       " 'gfw_aboveground_carbon__Mg_CO2',\n",
       " 'gfw_belowground_carbon__Mg_CO2_ha-1',\n",
       " 'gfw_belowground_carbon__Mg_CO2',\n",
       " 'gfw_deadwood_carbon__Mg_CO2_ha-1',\n",
       " 'gfw_deadwood_carbon__Mg_CO2',\n",
       " 'gfw_litter_carbon__Mg_CO2_ha-1',\n",
       " 'gfw_litter_carbon__Mg_CO2',\n",
       " 'is__wdpa_protected_areas',\n",
       " 'is__gfw_oil_palm',\n",
       " 'is__idn_forest_moratorium',\n",
       " 'umd_glad_landsat_alerts__date_conf',\n",
       " 'umd_glad_landsat_alerts__date',\n",
       " 'umd_glad_landsat_alerts__confidence',\n",
       " 'is__wwf_tiger_conservation_landscapes',\n",
       " 'is__birdlife_alliance_for_zero_extinction_sites',\n",
       " 'is__birdlife_key_biodiversity_areas',\n",
       " 'gfw_forest_carbon_gross_emissions__Mg_CO2e_ha-1',\n",
       " 'gfw_forest_carbon_gross_emissions__Mg_CO2e',\n",
       " 'gfw_forest_carbon_net_flux__Mg_CO2e_ha-1',\n",
       " 'gfw_forest_carbon_net_flux__Mg_CO2e',\n",
       " 'gfw_forest_carbon_gross_removals__Mg_CO2e_ha-1',\n",
       " 'gfw_forest_carbon_gross_removals__Mg_CO2e',\n",
       " 'umd_tree_cover_density_2000__threshold',\n",
       " 'umd_tree_cover_loss__year',\n",
       " 'inpe_prodes__year',\n",
       " 'is__gfw_mining_concessions',\n",
       " 'is__gfw_peatlands',\n",
       " 'is__gmw_global_mangrove_extent_2016',\n",
       " 'is__umd_regional_primary_forest_2001',\n",
       " 'ifl_intact_forest_landscapes__year',\n",
       " 'is__ifl_intact_forest_landscapes']"
      ]
     },
     "execution_count": 46,
     "metadata": {},
     "output_type": "execute_result"
    }
   ],
   "source": [
    "# Queryable fields\n",
    "d.fields"
   ]
  },
  {
   "cell_type": "code",
   "execution_count": 16,
   "metadata": {},
   "outputs": [],
   "source": [
    "## Query using a geostore to do zonal stats\n",
    "gid = 'c3833748f6815d31bad47d47f147c0f0'"
   ]
  },
  {
   "cell_type": "code",
   "execution_count": 24,
   "metadata": {},
   "outputs": [
    {
     "name": "stdout",
     "output_type": "stream",
     "text": [
      "https://data-api.globalforestwatch.org/dataset/wur_radd_alerts/v20210704/query/json?sql=SELECT+SUM%28gfw_forest_carbon_net_flux__Mg_CO2e%29%2C%0A++++++++++++++SUM%28gfw_forest_carbon_gross_emissions__Mg_CO2e%29%2C%0A++++++++++++++SUM%28gfw_forest_carbon_gross_removals__Mg_CO2e%29%0A++++++++FROM+data%0A++++++++WHERE+umd_tree_cover_density_2010__threshold+%3E%3D+30%0A++++++++OR+is__umd_tree_cover_gain+%3D+%27true%27&geostore_id=c3833748f6815d31bad47d47f147c0f0&geostore_origin=rw\n"
     ]
    },
    {
     "data": {
      "text/plain": [
       "[{'gfw_forest_carbon_gross_emissions__Mg_CO2e': 621932500.51561,\n",
       "  'gfw_forest_carbon_gross_removals__Mg_CO2e': 209671083.90540004,\n",
       "  'gfw_forest_carbon_net_flux__Mg_CO2e': 412261415.38779}]"
      ]
     },
     "execution_count": 24,
     "metadata": {},
     "output_type": "execute_result"
    }
   ],
   "source": [
    "sql = \"\"\"SELECT SUM(gfw_forest_carbon_net_flux__Mg_CO2e),\n",
    "              SUM(gfw_forest_carbon_gross_emissions__Mg_CO2e),\n",
    "              SUM(gfw_forest_carbon_gross_removals__Mg_CO2e)\n",
    "        FROM data\n",
    "        WHERE umd_tree_cover_density_2000__threshold >= 30\n",
    "        OR is__umd_tree_cover_gain = 'true'\"\"\"\n",
    "\n",
    "result = d.query(sql=sql, geostore_id=gid, verbose=True)\n",
    "result"
   ]
  },
  {
   "cell_type": "code",
   "execution_count": null,
   "metadata": {},
   "outputs": [],
   "source": []
  }
 ],
 "metadata": {
  "kernelspec": {
   "display_name": "Python 3",
   "language": "python",
   "name": "python3"
  },
  "language_info": {
   "codemirror_mode": {
    "name": "ipython",
    "version": 3
   },
   "file_extension": ".py",
   "mimetype": "text/x-python",
   "name": "python",
   "nbconvert_exporter": "python",
   "pygments_lexer": "ipython3",
   "version": "3.6.2"
  }
 },
 "nbformat": 4,
 "nbformat_minor": 2
}
