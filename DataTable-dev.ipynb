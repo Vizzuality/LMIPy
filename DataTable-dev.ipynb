{
 "cells": [
  {
   "cell_type": "markdown",
   "metadata": {},
   "source": [
    "# GFW Data-API Playground\n",
    "\n",
    "When developing, to test newly saved code:\n",
    "\n",
    "- restart kernel\n",
    "- after each save in the command line use: `!python setup.py develop ` or `!pip install -e .` to install\n",
    "- then re-import `LMIPy`\n",
    "- use `py.test` in cli to execute tests\n",
    "\n",
    "### To release\n",
    "\n",
    "1. Increment the version in `setup.py`.\n",
    "2. Push changes to github\n",
    "3. Checkout to master, pull\n",
    "3. Remove the `dist` folder\n",
    "3. In the CLI run `make pypi`\n",
    "4. Check version on [Colab](https://colab.research.google.com/drive/1tRye2QAytWzuki3DQyg4G7fsFFKlZNic#scrollTo=EN4iMVRm6N0Y)\n",
    "\n"
   ]
  },
  {
   "cell_type": "code",
   "execution_count": 1,
   "metadata": {
    "scrolled": false
   },
   "outputs": [
    {
     "name": "stderr",
     "output_type": "stream",
     "text": [
      "/Users/vizzuality/anaconda3/lib/python3.6/site-packages/geopandas/_compat.py:88: UserWarning: The Shapely GEOS version (3.9.1-CAPI-1.14.2) is incompatible with the GEOS version PyGEOS was compiled with (3.8.1-CAPI-1.13.3). Conversions between both will be slow.\n",
      "  shapely_geos_version, geos_capi_version_string\n"
     ]
    },
    {
     "name": "stdout",
     "output_type": "stream",
     "text": [
      "LMI ver. 0.5.0 ready!\n"
     ]
    }
   ],
   "source": [
    "!python setup.py develop \n",
    "\n",
    "from IPython.display import clear_output,display\n",
    "clear_output()\n",
    "\n",
    "import LMIPy as lmi\n",
    "from LMIPy import utils\n",
    "\n",
    "print(f'LMI ver. {lmi.__version__} ready!')"
   ]
  },
  {
   "cell_type": "markdown",
   "metadata": {},
   "source": [
    "# RW User Class"
   ]
  },
  {
   "cell_type": "code",
   "execution_count": 2,
   "metadata": {},
   "outputs": [],
   "source": [
    "ENV = 'production'\n",
    "# ENV = 'preproduction'\n",
    "# ENV = 'staging'\n",
    "\n",
    "u = lmi.User(env=ENV)"
   ]
  },
  {
   "cell_type": "code",
   "execution_count": 3,
   "metadata": {},
   "outputs": [
    {
     "name": "stdout",
     "output_type": "stream",
     "text": [
      "Password: ········\n"
     ]
    }
   ],
   "source": [
    "email = 'adam.pain@vizzuality.com'\n",
    "u.login(email=email)"
   ]
  },
  {
   "cell_type": "code",
   "execution_count": 12,
   "metadata": {},
   "outputs": [
    {
     "name": "stdout",
     "output_type": "stream",
     "text": [
      "_id: 59db4eace9c1380001d6e4c3\n",
      "role: ADMIN\n",
      "apps: ['rw', 'gfw', 'prep']\n"
     ]
    }
   ],
   "source": [
    "print(f\"_id: {u._id}\")\n",
    "print(f\"role: {u.role}\")\n",
    "print(f\"apps: {u.apps[:3]}\")\n",
    "\n",
    "TOKEN = u.token"
   ]
  },
  {
   "cell_type": "markdown",
   "metadata": {},
   "source": [
    "# Get GFWDataset"
   ]
  },
  {
   "cell_type": "code",
   "execution_count": 13,
   "metadata": {},
   "outputs": [],
   "source": [
    "## Get data-api creds (staging only; not currently enforced in production)\n",
    "creds = lmi.Auth(env=ENV, rw_api_token=TOKEN)"
   ]
  },
  {
   "cell_type": "code",
   "execution_count": 14,
   "metadata": {},
   "outputs": [
    {
     "data": {
      "text/plain": [
       "[GFW Data API Credential: 'AJ Prod Test Key' (does not expire),\n",
       " GFW Data API Credential: 'GFW Flagship Production Key' (does not expire),\n",
       " GFW Data API Credential: 'GFW Flagship Staging Key' (does not expire),\n",
       " GFW Data API Credential: 'AJ data-api' (does not expire)]"
      ]
     },
     "execution_count": 14,
     "metadata": {},
     "output_type": "execute_result"
    }
   ],
   "source": [
    "## See keys that I have generated\n",
    "creds.keys"
   ]
  },
  {
   "cell_type": "code",
   "execution_count": 15,
   "metadata": {},
   "outputs": [],
   "source": [
    "## Set data-api key\n",
    "DATA_API_KEY = creds.keys[0].api_key"
   ]
  },
  {
   "cell_type": "code",
   "execution_count": 16,
   "metadata": {},
   "outputs": [],
   "source": [
    "# Create generic Data-api class\n",
    "t = lmi.GFWDataset(env=ENV)"
   ]
  },
  {
   "cell_type": "code",
   "execution_count": 19,
   "metadata": {},
   "outputs": [
    {
     "name": "stdout",
     "output_type": "stream",
     "text": [
      "http://gfw-data-api-elb-975255122.us-east-1.elb.amazonaws.com/datasets\n",
      "Found {len(datasets)} datasets\n"
     ]
    },
    {
     "data": {
      "text/plain": [
       "{'created_on': '2020-07-09T16:20:31.706068',\n",
       " 'dataset': 'nasa_viirs_fire_alerts',\n",
       " 'metadata': {'added_date': '2016-05-17',\n",
       "  'cautions': 'Not all fires are detected. There are several reasons why VIIRS may not have detected a certain fire. The fire may have started and ended between satellite overpasses. The fire may have been too small or too cool to be detected in the 375-meter pixel. Cloud cover, heavy smoke, or tree canopy may completely obscure a fire.\\nIt is not recommended to use active fire locations to estimate burned area due to spatial and temporal sampling issues.\\nWhen zoomed out, this data layer displays some degree of inaccuracy because the data points must be collapsed to be visible on a larger scale. Zoom in for greater detail.',\n",
       "  'citation': 'NASA FIRMS. “VIIRS Active Fires.” Accessed through Global Forest Watch on [date]. www.globalforestwatch.org ',\n",
       "  'data_language': 'English',\n",
       "  'function': 'Displays fire alert data for the past 24 hours, 48 hours, 72 hours, or 7 days',\n",
       "  'geographic_coverage': 'Global',\n",
       "  'key_restrictions': 'Open per NASA data policy',\n",
       "  'learn_more': 'https://earthdata.nasa.gov/earth-observation-data/near-real-time/firms/viirs-i-band-active-fire-data',\n",
       "  'license': 'We acknowledge  the use of data and imagery from LANCE FIRMS operated by the NASA/GSFC/Earth Science Data and Information System (ESDIS) with funding provided by NASA/HQ.\\n[NASA Data & Information Policy](http://science.nasa.gov/earth-science/earth-science-data/data-information-policy/)',\n",
       "  'other': None,\n",
       "  'overview': 'The VIIRS active fires data ([VNP14IMGT](https://earthdata.nasa.gov/earth-observation-data/near-real-time/firms/v1-vnp14imgt)) is the latest fire monitoring product to FIRMS (Fire Information for Resource Management System), which identifies global fire locations in near-real time. Information is collected from the Visible Infrared Imaging Radiometer Suite (VIIRS) sensor, and processed with a [fire detection algorithm](http://www.sciencedirect.com/science/article/pii/S0034425713004483) to flag active fires. Each dot on the map represents the center of a 375 meter pixel that has been flagged by the algorithm.\\nThe VIIRS data replaces the active fires data from MODIS that was previously available on Global Forest Watch. The VIIRS data has higher spatial resolution (375-meter pixels vs. 1-kilometer pixels) which improves detection of smaller fires and provides a more reliable estimate of fire perimeters. The VIIRS data is also better calibrated to detect fires at night.\\nThe active fires data is available to view and download for the past 24 hours, 48 hours,  or 7 days. Older fire data will be available for download from the [NASA FIRMS](https://earthdata.nasa.gov/earth-observation-data/near-real-time/firms) website beginning in mid-2016.\\nEach fire alert has a confidence value of low, nominal, or high to help users gauge the quality of individual hotspot /fire pixels.',\n",
       "  'resolution': '375 × 375 meters',\n",
       "  'scale': None,\n",
       "  'source': 'NASA',\n",
       "  'subtitle': '(daily, 375 m, global, NASA)',\n",
       "  'tags': ['Forest Change', 'Fires'],\n",
       "  'title': 'NASA VIIRS Fire Alerts',\n",
       "  'update_frequency': 'daily',\n",
       "  'why_added': 'Higher resolution data for fires'},\n",
       " 'updated_on': '2020-07-09T16:20:31.706078',\n",
       " 'versions': ['v202010', 'v202105.3', 'v202105.2']}"
      ]
     },
     "execution_count": 19,
     "metadata": {},
     "output_type": "execute_result"
    }
   ],
   "source": [
    "## Generate catalogue of all available datsets\n",
    "datasets = t.get_datasets(verbose=True)\n",
    "\n",
    "print(\"Found {len(datasets)} datasets\")\n",
    "\n",
    "datasets[0]"
   ]
  },
  {
   "cell_type": "code",
   "execution_count": 20,
   "metadata": {},
   "outputs": [
    {
     "data": {
      "text/plain": [
       "True"
      ]
     },
     "execution_count": 20,
     "metadata": {},
     "output_type": "execute_result"
    }
   ],
   "source": [
    "## Search for a specific dataset\n",
    "table_name = 'gfw_forest_carbon_net_flux'\n",
    "\n",
    "table_name in [d['dataset'] for d in datasets]"
   ]
  },
  {
   "cell_type": "code",
   "execution_count": 21,
   "metadata": {},
   "outputs": [],
   "source": [
    "## Instantiate new dataset object using the table name slug\n",
    "t = lmi.GFWDataset(env=ENV, slug=table_name)"
   ]
  },
  {
   "cell_type": "code",
   "execution_count": 24,
   "metadata": {},
   "outputs": [
    {
     "name": "stdout",
     "output_type": "stream",
     "text": [
      "https://data-api.globalforestwatch.org/dataset/gfw_forest_carbon_net_flux/v20210331\n",
      "https://data-api.globalforestwatch.org/dataset/gfw_forest_carbon_net_flux\n",
      "https://data-api.globalforestwatch.org/dataset/gfw_forest_carbon_net_flux/v20210331/fields\n"
     ]
    },
    {
     "data": {
      "text/plain": [
       "dict_keys(['title', 'subtitle', 'function', 'resolution', 'geographic_coverage', 'source', 'update_frequency', 'cautions', 'license', 'overview', 'citation', 'tags', 'data_language', 'key_restrictions', 'scale', 'added_date', 'why_added', 'other', 'learn_more', 'version_number', 'content_date', 'content_date_range', 'last_update', 'download', 'analysis', 'data_updates'])"
      ]
     },
     "execution_count": 24,
     "metadata": {},
     "output_type": "execute_result"
    }
   ],
   "source": [
    "## Populate metadata etc\n",
    "t.get_metadata(verbose=True)\n",
    "t.get_versions(True)\n",
    "t.get_fields(True)\n",
    "\n",
    "\n",
    "t.metadata.keys()"
   ]
  },
  {
   "cell_type": "code",
   "execution_count": 25,
   "metadata": {},
   "outputs": [
    {
     "data": {
      "text/plain": [
       "['v20210127', 'v20210209', 'v20210305', 'v20210331']"
      ]
     },
     "execution_count": 25,
     "metadata": {},
     "output_type": "execute_result"
    }
   ],
   "source": [
    "t.versions"
   ]
  },
  {
   "cell_type": "code",
   "execution_count": 26,
   "metadata": {},
   "outputs": [
    {
     "data": {
      "text/plain": [
       "['ifl_intact_forest_landscapes__class',\n",
       " 'is__inpe_prodes',\n",
       " 'gfw_oil_gas__gfw_fid',\n",
       " 'inpe_amazonia_prodes__year',\n",
       " 'rspo_southeast_asia_land_cover_2010__land_cover_class',\n",
       " 'gfw_wood_fiber__gfw_fid',\n",
       " 'rspo_oil_palm__rspocert',\n",
       " 'gfw_mining_concessions__gfw_fid',\n",
       " 'ibge_bra_biomes__name',\n",
       " 'gfw_logging__gfw_fid',\n",
       " 'wdpa_protected_areas__iucn_cat',\n",
       " 'gfw_forest_carbon_gross_emissions__Mg_CO2e_ha',\n",
       " 'gfw_forest_carbon_net_flux__Mg_CO2e_ha',\n",
       " 'gfw_forest_carbon_gross_removals__Mg_CO2e_ha',\n",
       " 'birdlife_alliance_for_zero_extinction_sites__gfw_fid',\n",
       " 'idn_forest_area__class_compressed',\n",
       " 'umd_tree_cover_loss__threshold',\n",
       " 'is__umd_tree_cover_gain',\n",
       " 'umd_tree_cover_density_2010__threshold',\n",
       " 'inpe_prodes__gfw_fid',\n",
       " 'gfw_peatlands__Mg_CO2_ha',\n",
       " 'gfw_deadwood_carbon__Mg_CO2_ha',\n",
       " 'gmw_global_mangrove_extent_2016__gfw_fid',\n",
       " 'gfw_belowground_carbon__Mg_CO2_ha',\n",
       " 'gfw_aboveground_carbon__Mg_CO2_ha',\n",
       " 'gfw_litter_carbon__Mg_CO2_ha',\n",
       " 'landmark_icls__gfw_fid',\n",
       " 'birdlife_key_biodiversity_areas__gfw_fid',\n",
       " 'idn_forest_area__gfw_fid',\n",
       " 'gfw_forest_carbon_net_flux__Mg_CO2e_px',\n",
       " 'gfw_forest_carbon_gross_emissions__Mg_CO2e_px',\n",
       " 'gfw_forest_carbon_gross_removals__Mg_CO2e_px',\n",
       " 'is__wdpa_protected_areas',\n",
       " 'is__gfw_oil_palm',\n",
       " 'is__idn_forest_moratorium',\n",
       " 'umd_glad_landsat_alerts__date_conf',\n",
       " 'umd_glad_landsat_alerts__date',\n",
       " 'umd_glad_landsat_alerts__confidence',\n",
       " 'is__wwf_tiger_conservation_landscapes',\n",
       " 'is__birdlife_alliance_for_zero_extinction_sites',\n",
       " 'is__gfw_mining_concessions',\n",
       " 'is__birdlife_key_biodiversity_areas',\n",
       " 'gfw_forest_carbon_gross_emissions__Mg_CO2e_ha-1',\n",
       " 'gfw_forest_carbon_gross_emissions__Mg_CO2e',\n",
       " 'gfw_forest_carbon_net_flux__Mg_CO2e_ha-1',\n",
       " 'gfw_forest_carbon_net_flux__Mg_CO2e',\n",
       " 'gfw_forest_carbon_gross_removals__Mg_CO2e_ha-1',\n",
       " 'gfw_forest_carbon_gross_removals__Mg_CO2e',\n",
       " 'umd_tree_cover_density_2000__threshold',\n",
       " 'umd_tree_cover_loss__year',\n",
       " 'inpe_prodes__year',\n",
       " 'is__ifl_intact_forest_landscapes',\n",
       " 'is__gfw_peatlands',\n",
       " 'is__gmw_global_mangrove_extent_2016',\n",
       " 'is__umd_regional_primary_forest_2001']"
      ]
     },
     "execution_count": 26,
     "metadata": {},
     "output_type": "execute_result"
    }
   ],
   "source": [
    "t.fields"
   ]
  },
  {
   "cell_type": "code",
   "execution_count": 28,
   "metadata": {},
   "outputs": [],
   "source": [
    "## Query using a geostore to do zonal stats"
   ]
  },
  {
   "cell_type": "code",
   "execution_count": 29,
   "metadata": {},
   "outputs": [],
   "source": [
    "gid = 'c3833748f6815d31bad47d47f147c0f0'"
   ]
  },
  {
   "cell_type": "code",
   "execution_count": 30,
   "metadata": {},
   "outputs": [
    {
     "name": "stdout",
     "output_type": "stream",
     "text": [
      "https://data-api.globalforestwatch.org/dataset/gfw_forest_carbon_net_flux/v20210331/query/json?sql=SELECT+SUM%28gfw_forest_carbon_net_flux__Mg_CO2e%29%2C%0A++++++++++++++SUM%28gfw_forest_carbon_gross_emissions__Mg_CO2e%29%2C%0A++++++++++++++SUM%28gfw_forest_carbon_gross_removals__Mg_CO2e%29%0A++++++++FROM+data%0A++++++++WHERE+umd_tree_cover_density_2000__threshold+%3E%3D+30%0A++++++++OR+is__umd_tree_cover_gain+%3D+%27true%27&geostore_id=c3833748f6815d31bad47d47f147c0f0&geostore_origin=rw\n"
     ]
    },
    {
     "data": {
      "text/plain": [
       "[{'gfw_forest_carbon_gross_emissions__Mg_CO2e': 703414800.43941,\n",
       "  'gfw_forest_carbon_gross_removals__Mg_CO2e': 224964899.2003,\n",
       "  'gfw_forest_carbon_net_flux__Mg_CO2e': 478449900.04182994}]"
      ]
     },
     "execution_count": 30,
     "metadata": {},
     "output_type": "execute_result"
    }
   ],
   "source": [
    "sql = \"\"\"SELECT SUM(gfw_forest_carbon_net_flux__Mg_CO2e),\n",
    "              SUM(gfw_forest_carbon_gross_emissions__Mg_CO2e),\n",
    "              SUM(gfw_forest_carbon_gross_removals__Mg_CO2e)\n",
    "        FROM data\n",
    "        WHERE umd_tree_cover_density_2000__threshold >= 30\n",
    "        OR is__umd_tree_cover_gain = 'true'\"\"\"\n",
    "\n",
    "result = t.query(sql=sql, geostore_id='c3833748f6815d31bad47d47f147c0f0', verbose=True)\n",
    "result"
   ]
  },
  {
   "cell_type": "code",
   "execution_count": null,
   "metadata": {},
   "outputs": [],
   "source": []
  },
  {
   "cell_type": "code",
   "execution_count": null,
   "metadata": {},
   "outputs": [],
   "source": []
  },
  {
   "cell_type": "code",
   "execution_count": null,
   "metadata": {},
   "outputs": [],
   "source": []
  }
 ],
 "metadata": {
  "kernelspec": {
   "display_name": "Python 3",
   "language": "python",
   "name": "python3"
  },
  "language_info": {
   "codemirror_mode": {
    "name": "ipython",
    "version": 3
   },
   "file_extension": ".py",
   "mimetype": "text/x-python",
   "name": "python",
   "nbconvert_exporter": "python",
   "pygments_lexer": "ipython3",
   "version": "3.6.2"
  }
 },
 "nbformat": 4,
 "nbformat_minor": 2
}
